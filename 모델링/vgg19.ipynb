{
  "cells": [
    {
      "cell_type": "code",
      "execution_count": null,
      "metadata": {
        "colab": {
          "base_uri": "https://localhost:8080/"
        },
        "id": "2bhIJfm17eKk",
        "outputId": "af676aed-827f-471d-b366-83e0c556c87f"
      },
      "outputs": [
        {
          "output_type": "stream",
          "name": "stdout",
          "text": [
            "Collecting keras-tuner\n",
            "  Downloading keras_tuner-1.4.7-py3-none-any.whl (129 kB)\n",
            "\u001b[2K     \u001b[90m━━━━━━━━━━━━━━━━━━━━━━━━━━━━━━━━━━━━━━━━\u001b[0m \u001b[32m129.1/129.1 kB\u001b[0m \u001b[31m2.6 MB/s\u001b[0m eta \u001b[36m0:00:00\u001b[0m\n",
            "\u001b[?25hRequirement already satisfied: keras in /usr/local/lib/python3.10/dist-packages (from keras-tuner) (2.15.0)\n",
            "Requirement already satisfied: packaging in /usr/local/lib/python3.10/dist-packages (from keras-tuner) (24.1)\n",
            "Requirement already satisfied: requests in /usr/local/lib/python3.10/dist-packages (from keras-tuner) (2.31.0)\n",
            "Collecting kt-legacy (from keras-tuner)\n",
            "  Downloading kt_legacy-1.0.5-py3-none-any.whl (9.6 kB)\n",
            "Requirement already satisfied: charset-normalizer<4,>=2 in /usr/local/lib/python3.10/dist-packages (from requests->keras-tuner) (3.3.2)\n",
            "Requirement already satisfied: idna<4,>=2.5 in /usr/local/lib/python3.10/dist-packages (from requests->keras-tuner) (3.7)\n",
            "Requirement already satisfied: urllib3<3,>=1.21.1 in /usr/local/lib/python3.10/dist-packages (from requests->keras-tuner) (2.0.7)\n",
            "Requirement already satisfied: certifi>=2017.4.17 in /usr/local/lib/python3.10/dist-packages (from requests->keras-tuner) (2024.7.4)\n",
            "Installing collected packages: kt-legacy, keras-tuner\n",
            "Successfully installed keras-tuner-1.4.7 kt-legacy-1.0.5\n"
          ]
        }
      ],
      "source": [
        "!pip install keras-tuner"
      ]
    },
    {
      "cell_type": "code",
      "execution_count": null,
      "metadata": {
        "id": "JoixdPTR8Fcz"
      },
      "outputs": [],
      "source": [
        "import os\n",
        "import tensorflow as tf\n",
        "import numpy as np\n",
        "import pandas as pd\n",
        "import seaborn as sns\n",
        "import matplotlib.pyplot as plt\n",
        "import requests\n",
        "from io import BytesIO\n",
        "from PIL import Image\n",
        "from tensorflow.keras.preprocessing.image import ImageDataGenerator\n",
        "from sklearn.model_selection import train_test_split\n",
        "from tensorflow.keras.utils import to_categorical\n",
        "import cv2\n",
        "from sklearn.preprocessing import OneHotEncoder\n",
        "from keras.models import Sequential\n",
        "from keras.layers import Conv2D, MaxPooling2D, Flatten, Dense, Dropout,GlobalAveragePooling2D\n",
        "from sklearn.metrics import confusion_matrix, accuracy_score, precision_score, recall_score, f1_score, classification_report\n",
        "from tensorflow.keras.applications import VGG16\n",
        "from tensorflow.keras.applications.vgg16 import VGG16, preprocess_input\n",
        "from tensorflow.keras.applications.vgg19 import VGG19, preprocess_input\n",
        "from tensorflow.keras.callbacks import EarlyStopping\n",
        "import keras_tuner as kt\n",
        "from keras.optimizers import Adam\n",
        "from keras_tuner.engine.hyperparameters import HyperParameters\n",
        "from keras_tuner import RandomSearch"
      ]
    },
    {
      "cell_type": "code",
      "execution_count": null,
      "metadata": {
        "colab": {
          "base_uri": "https://localhost:8080/"
        },
        "id": "jauRzMn98G2e",
        "outputId": "e191d31d-fd12-4a1c-eefe-646d8035582c"
      },
      "outputs": [
        {
          "output_type": "stream",
          "name": "stdout",
          "text": [
            "Mounted at /content/drive\n"
          ]
        }
      ],
      "source": [
        "# 구글 드라이브 불러오기\n",
        "from google.colab import drive\n",
        "drive.mount('/content/drive')"
      ]
    },
    {
      "cell_type": "markdown",
      "metadata": {
        "id": "fgfN4i2OQ-qS"
      },
      "source": [
        "이미지 모두 있는지 확인하기"
      ]
    },
    {
      "cell_type": "code",
      "execution_count": null,
      "metadata": {
        "id": "m9FLMf-wQ6s1"
      },
      "outputs": [],
      "source": [
        "folder_path = '/content/drive/MyDrive/Colab Notebooks/관세청/final_image'\n",
        "file_list = os.listdir(folder_path)"
      ]
    },
    {
      "cell_type": "markdown",
      "metadata": {
        "id": "YyPlPCWNwjkm"
      },
      "source": [
        "이미지 확장자 종류 출력"
      ]
    },
    {
      "cell_type": "code",
      "execution_count": null,
      "metadata": {
        "id": "lQf2T2glwP48"
      },
      "outputs": [],
      "source": [
        "# 확장자를 저장할 집합\n",
        "extensions = set()"
      ]
    },
    {
      "cell_type": "code",
      "execution_count": null,
      "metadata": {
        "id": "ybgd4SphwQ7m"
      },
      "outputs": [],
      "source": [
        "# 파일 확장자 추출\n",
        "for file in file_list:\n",
        "    _, ext = os.path.splitext(file)\n",
        "    if ext:  # 확장자가 있는 경우\n",
        "        extensions.add(ext.lower())"
      ]
    },
    {
      "cell_type": "code",
      "execution_count": null,
      "metadata": {
        "colab": {
          "base_uri": "https://localhost:8080/"
        },
        "id": "nQdSSHBswUzp",
        "outputId": "8ea8c243-c7bd-4eb5-a82e-9cfa1a466a94"
      },
      "outputs": [
        {
          "output_type": "stream",
          "name": "stdout",
          "text": [
            "폴더 내의 이미지 파일 확장자:\n",
            ".jpg\n",
            ".png\n"
          ]
        }
      ],
      "source": [
        "# 확장자 출력\n",
        "print(\"폴더 내의 이미지 파일 확장자:\")\n",
        "for ext in extensions:\n",
        "    print(ext)"
      ]
    },
    {
      "cell_type": "markdown",
      "metadata": {
        "id": "1QPNdDbDwpwK"
      },
      "source": [
        ".jpg, .png인 것을 확인할 수 있음."
      ]
    },
    {
      "cell_type": "code",
      "execution_count": null,
      "metadata": {
        "id": "6DtAHo3KRGav"
      },
      "outputs": [],
      "source": [
        "# 다양한 확장자를 고려한 함수\n",
        "def file_exists(file_number):\n",
        "    extensions = ['png', 'jpg', 'JPG', 'PNG']\n",
        "    for ext in extensions:\n",
        "        if f\"{file_number}.{ext}\" in file_list:\n",
        "            return True\n",
        "    return False"
      ]
    },
    {
      "cell_type": "code",
      "execution_count": null,
      "metadata": {
        "colab": {
          "base_uri": "https://localhost:8080/"
        },
        "id": "hg4zHI_vudwY",
        "outputId": "117f2e2e-0b18-4c28-c76b-b96feb12047b"
      },
      "outputs": [
        {
          "output_type": "stream",
          "name": "stdout",
          "text": [
            "All files from 2.png to 17667.png are present.\n"
          ]
        }
      ],
      "source": [
        "# 2부터 17667까지의 파일 번호에 대해 존재 여부 확인\n",
        "expected_files = range(2, 17668)\n",
        "missing_files = [f\"{file_number}.png\" for file_number in expected_files if not file_exists(file_number)]\n",
        "\n",
        "if not missing_files:\n",
        "    print(\"All files from 2.png to 17667.png are present.\")\n",
        "else:\n",
        "    print(f\"Missing files: {missing_files}\")"
      ]
    },
    {
      "cell_type": "markdown",
      "metadata": {
        "id": "O15_y1GSuvgE"
      },
      "source": [
        "=> 2부터 17667까지의 이미지 파일이 정상적으로 있음."
      ]
    },
    {
      "cell_type": "markdown",
      "metadata": {
        "id": "wyLZ4iQVu1-d"
      },
      "source": [
        "엑셀 파일 불러오기"
      ]
    },
    {
      "cell_type": "code",
      "execution_count": null,
      "metadata": {
        "id": "uzkwFRmtuf5b"
      },
      "outputs": [],
      "source": [
        "file_path = '/content/drive/MyDrive/Colab Notebooks/관세청/updated_final_dataset.xlsx'\n",
        "df = pd.read_excel(file_path)"
      ]
    },
    {
      "cell_type": "code",
      "execution_count": null,
      "metadata": {
        "colab": {
          "base_uri": "https://localhost:8080/",
          "height": 206
        },
        "id": "qNByA-lgu7ze",
        "outputId": "55cd4770-8c1c-457a-99a8-c10617ac8edc"
      },
      "outputs": [
        {
          "data": {
            "application/vnd.google.colaboratory.intrinsic+json": {
              "summary": "{\n  \"name\": \"df\",\n  \"rows\": 17666,\n  \"fields\": [\n    {\n      \"column\": \"Name\",\n      \"properties\": {\n        \"dtype\": \"string\",\n        \"num_unique_values\": 9244,\n        \"samples\": [\n          \"\\ucf54\\ud2bc \\ube14\\ub80c\\ub4dc \\uc7ac\\ud0b7 | Canali\",\n          \"Furlong \\uc2dc\\uc5b4\\ub9c1 \\ud2b8\\ub9ac\\ubc0d \\ud53c\\ucf54\\ud2b8 | Visvim\",\n          \"Compass \\ud03c\\ud305 \\ubca0\\uc2a4\\ud2b8 | Stone Island\"\n        ],\n        \"semantic_type\": \"\",\n        \"description\": \"\"\n      }\n    },\n    {\n      \"column\": \"Image URL\",\n      \"properties\": {\n        \"dtype\": \"string\",\n        \"num_unique_values\": 11442,\n        \"samples\": [\n          \"https://img.mytheresa.com/652/738/100/jpeg/catalog/product/fd/P00911186.jpg\",\n          \"https://img.mytheresa.com/652/738/100/jpeg/catalog/product/4e/P00925413.jpg\",\n          \"https://img.mytheresa.com/652/738/100/jpeg/catalog/product/5f/P00939448.jpg\"\n        ],\n        \"semantic_type\": \"\",\n        \"description\": \"\"\n      }\n    },\n    {\n      \"column\": \"label\",\n      \"properties\": {\n        \"dtype\": \"number\",\n        \"std\": 48,\n        \"min\": 6101,\n        \"max\": 6206,\n        \"num_unique_values\": 14,\n        \"samples\": [\n          6102,\n          6201,\n          6204\n        ],\n        \"semantic_type\": \"\",\n        \"description\": \"\"\n      }\n    }\n  ]\n}",
              "type": "dataframe",
              "variable_name": "df"
            },
            "text/html": [
              "\n",
              "  <div id=\"df-5a3c49ce-d027-477f-a71a-a55ddad62c5c\" class=\"colab-df-container\">\n",
              "    <div>\n",
              "<style scoped>\n",
              "    .dataframe tbody tr th:only-of-type {\n",
              "        vertical-align: middle;\n",
              "    }\n",
              "\n",
              "    .dataframe tbody tr th {\n",
              "        vertical-align: top;\n",
              "    }\n",
              "\n",
              "    .dataframe thead th {\n",
              "        text-align: right;\n",
              "    }\n",
              "</style>\n",
              "<table border=\"1\" class=\"dataframe\">\n",
              "  <thead>\n",
              "    <tr style=\"text-align: right;\">\n",
              "      <th></th>\n",
              "      <th>Name</th>\n",
              "      <th>Image URL</th>\n",
              "      <th>label</th>\n",
              "    </tr>\n",
              "  </thead>\n",
              "  <tbody>\n",
              "    <tr>\n",
              "      <th>0</th>\n",
              "      <td>Elite 스트레이트 진 | 7 For All Mankind</td>\n",
              "      <td>https://img.mytheresa.com/652/738/100/jpeg/cat...</td>\n",
              "      <td>6204</td>\n",
              "    </tr>\n",
              "    <tr>\n",
              "      <th>1</th>\n",
              "      <td>로우라이즈 부츠컷 진  | Saint Laurent</td>\n",
              "      <td>https://img.mytheresa.com/652/738/100/jpeg/cat...</td>\n",
              "      <td>6204</td>\n",
              "    </tr>\n",
              "    <tr>\n",
              "      <th>2</th>\n",
              "      <td>Marlo 스트레이트 진 | Tove</td>\n",
              "      <td>https://img.mytheresa.com/652/738/100/jpeg/cat...</td>\n",
              "      <td>6204</td>\n",
              "    </tr>\n",
              "    <tr>\n",
              "      <th>3</th>\n",
              "      <td>Nedar 하이라이즈 스트레이트 진 | Loro Piana</td>\n",
              "      <td>https://img.mytheresa.com/652/738/100/jpeg/cat...</td>\n",
              "      <td>6204</td>\n",
              "    </tr>\n",
              "    <tr>\n",
              "      <th>4</th>\n",
              "      <td>스트레이트 진 | Toteme</td>\n",
              "      <td>https://img.mytheresa.com/652/738/100/jpeg/cat...</td>\n",
              "      <td>6204</td>\n",
              "    </tr>\n",
              "  </tbody>\n",
              "</table>\n",
              "</div>\n",
              "    <div class=\"colab-df-buttons\">\n",
              "\n",
              "  <div class=\"colab-df-container\">\n",
              "    <button class=\"colab-df-convert\" onclick=\"convertToInteractive('df-5a3c49ce-d027-477f-a71a-a55ddad62c5c')\"\n",
              "            title=\"Convert this dataframe to an interactive table.\"\n",
              "            style=\"display:none;\">\n",
              "\n",
              "  <svg xmlns=\"http://www.w3.org/2000/svg\" height=\"24px\" viewBox=\"0 -960 960 960\">\n",
              "    <path d=\"M120-120v-720h720v720H120Zm60-500h600v-160H180v160Zm220 220h160v-160H400v160Zm0 220h160v-160H400v160ZM180-400h160v-160H180v160Zm440 0h160v-160H620v160ZM180-180h160v-160H180v160Zm440 0h160v-160H620v160Z\"/>\n",
              "  </svg>\n",
              "    </button>\n",
              "\n",
              "  <style>\n",
              "    .colab-df-container {\n",
              "      display:flex;\n",
              "      gap: 12px;\n",
              "    }\n",
              "\n",
              "    .colab-df-convert {\n",
              "      background-color: #E8F0FE;\n",
              "      border: none;\n",
              "      border-radius: 50%;\n",
              "      cursor: pointer;\n",
              "      display: none;\n",
              "      fill: #1967D2;\n",
              "      height: 32px;\n",
              "      padding: 0 0 0 0;\n",
              "      width: 32px;\n",
              "    }\n",
              "\n",
              "    .colab-df-convert:hover {\n",
              "      background-color: #E2EBFA;\n",
              "      box-shadow: 0px 1px 2px rgba(60, 64, 67, 0.3), 0px 1px 3px 1px rgba(60, 64, 67, 0.15);\n",
              "      fill: #174EA6;\n",
              "    }\n",
              "\n",
              "    .colab-df-buttons div {\n",
              "      margin-bottom: 4px;\n",
              "    }\n",
              "\n",
              "    [theme=dark] .colab-df-convert {\n",
              "      background-color: #3B4455;\n",
              "      fill: #D2E3FC;\n",
              "    }\n",
              "\n",
              "    [theme=dark] .colab-df-convert:hover {\n",
              "      background-color: #434B5C;\n",
              "      box-shadow: 0px 1px 3px 1px rgba(0, 0, 0, 0.15);\n",
              "      filter: drop-shadow(0px 1px 2px rgba(0, 0, 0, 0.3));\n",
              "      fill: #FFFFFF;\n",
              "    }\n",
              "  </style>\n",
              "\n",
              "    <script>\n",
              "      const buttonEl =\n",
              "        document.querySelector('#df-5a3c49ce-d027-477f-a71a-a55ddad62c5c button.colab-df-convert');\n",
              "      buttonEl.style.display =\n",
              "        google.colab.kernel.accessAllowed ? 'block' : 'none';\n",
              "\n",
              "      async function convertToInteractive(key) {\n",
              "        const element = document.querySelector('#df-5a3c49ce-d027-477f-a71a-a55ddad62c5c');\n",
              "        const dataTable =\n",
              "          await google.colab.kernel.invokeFunction('convertToInteractive',\n",
              "                                                    [key], {});\n",
              "        if (!dataTable) return;\n",
              "\n",
              "        const docLinkHtml = 'Like what you see? Visit the ' +\n",
              "          '<a target=\"_blank\" href=https://colab.research.google.com/notebooks/data_table.ipynb>data table notebook</a>'\n",
              "          + ' to learn more about interactive tables.';\n",
              "        element.innerHTML = '';\n",
              "        dataTable['output_type'] = 'display_data';\n",
              "        await google.colab.output.renderOutput(dataTable, element);\n",
              "        const docLink = document.createElement('div');\n",
              "        docLink.innerHTML = docLinkHtml;\n",
              "        element.appendChild(docLink);\n",
              "      }\n",
              "    </script>\n",
              "  </div>\n",
              "\n",
              "\n",
              "<div id=\"df-9602eda8-d321-4bf9-8452-eddac6f4bf17\">\n",
              "  <button class=\"colab-df-quickchart\" onclick=\"quickchart('df-9602eda8-d321-4bf9-8452-eddac6f4bf17')\"\n",
              "            title=\"Suggest charts\"\n",
              "            style=\"display:none;\">\n",
              "\n",
              "<svg xmlns=\"http://www.w3.org/2000/svg\" height=\"24px\"viewBox=\"0 0 24 24\"\n",
              "     width=\"24px\">\n",
              "    <g>\n",
              "        <path d=\"M19 3H5c-1.1 0-2 .9-2 2v14c0 1.1.9 2 2 2h14c1.1 0 2-.9 2-2V5c0-1.1-.9-2-2-2zM9 17H7v-7h2v7zm4 0h-2V7h2v10zm4 0h-2v-4h2v4z\"/>\n",
              "    </g>\n",
              "</svg>\n",
              "  </button>\n",
              "\n",
              "<style>\n",
              "  .colab-df-quickchart {\n",
              "      --bg-color: #E8F0FE;\n",
              "      --fill-color: #1967D2;\n",
              "      --hover-bg-color: #E2EBFA;\n",
              "      --hover-fill-color: #174EA6;\n",
              "      --disabled-fill-color: #AAA;\n",
              "      --disabled-bg-color: #DDD;\n",
              "  }\n",
              "\n",
              "  [theme=dark] .colab-df-quickchart {\n",
              "      --bg-color: #3B4455;\n",
              "      --fill-color: #D2E3FC;\n",
              "      --hover-bg-color: #434B5C;\n",
              "      --hover-fill-color: #FFFFFF;\n",
              "      --disabled-bg-color: #3B4455;\n",
              "      --disabled-fill-color: #666;\n",
              "  }\n",
              "\n",
              "  .colab-df-quickchart {\n",
              "    background-color: var(--bg-color);\n",
              "    border: none;\n",
              "    border-radius: 50%;\n",
              "    cursor: pointer;\n",
              "    display: none;\n",
              "    fill: var(--fill-color);\n",
              "    height: 32px;\n",
              "    padding: 0;\n",
              "    width: 32px;\n",
              "  }\n",
              "\n",
              "  .colab-df-quickchart:hover {\n",
              "    background-color: var(--hover-bg-color);\n",
              "    box-shadow: 0 1px 2px rgba(60, 64, 67, 0.3), 0 1px 3px 1px rgba(60, 64, 67, 0.15);\n",
              "    fill: var(--button-hover-fill-color);\n",
              "  }\n",
              "\n",
              "  .colab-df-quickchart-complete:disabled,\n",
              "  .colab-df-quickchart-complete:disabled:hover {\n",
              "    background-color: var(--disabled-bg-color);\n",
              "    fill: var(--disabled-fill-color);\n",
              "    box-shadow: none;\n",
              "  }\n",
              "\n",
              "  .colab-df-spinner {\n",
              "    border: 2px solid var(--fill-color);\n",
              "    border-color: transparent;\n",
              "    border-bottom-color: var(--fill-color);\n",
              "    animation:\n",
              "      spin 1s steps(1) infinite;\n",
              "  }\n",
              "\n",
              "  @keyframes spin {\n",
              "    0% {\n",
              "      border-color: transparent;\n",
              "      border-bottom-color: var(--fill-color);\n",
              "      border-left-color: var(--fill-color);\n",
              "    }\n",
              "    20% {\n",
              "      border-color: transparent;\n",
              "      border-left-color: var(--fill-color);\n",
              "      border-top-color: var(--fill-color);\n",
              "    }\n",
              "    30% {\n",
              "      border-color: transparent;\n",
              "      border-left-color: var(--fill-color);\n",
              "      border-top-color: var(--fill-color);\n",
              "      border-right-color: var(--fill-color);\n",
              "    }\n",
              "    40% {\n",
              "      border-color: transparent;\n",
              "      border-right-color: var(--fill-color);\n",
              "      border-top-color: var(--fill-color);\n",
              "    }\n",
              "    60% {\n",
              "      border-color: transparent;\n",
              "      border-right-color: var(--fill-color);\n",
              "    }\n",
              "    80% {\n",
              "      border-color: transparent;\n",
              "      border-right-color: var(--fill-color);\n",
              "      border-bottom-color: var(--fill-color);\n",
              "    }\n",
              "    90% {\n",
              "      border-color: transparent;\n",
              "      border-bottom-color: var(--fill-color);\n",
              "    }\n",
              "  }\n",
              "</style>\n",
              "\n",
              "  <script>\n",
              "    async function quickchart(key) {\n",
              "      const quickchartButtonEl =\n",
              "        document.querySelector('#' + key + ' button');\n",
              "      quickchartButtonEl.disabled = true;  // To prevent multiple clicks.\n",
              "      quickchartButtonEl.classList.add('colab-df-spinner');\n",
              "      try {\n",
              "        const charts = await google.colab.kernel.invokeFunction(\n",
              "            'suggestCharts', [key], {});\n",
              "      } catch (error) {\n",
              "        console.error('Error during call to suggestCharts:', error);\n",
              "      }\n",
              "      quickchartButtonEl.classList.remove('colab-df-spinner');\n",
              "      quickchartButtonEl.classList.add('colab-df-quickchart-complete');\n",
              "    }\n",
              "    (() => {\n",
              "      let quickchartButtonEl =\n",
              "        document.querySelector('#df-9602eda8-d321-4bf9-8452-eddac6f4bf17 button');\n",
              "      quickchartButtonEl.style.display =\n",
              "        google.colab.kernel.accessAllowed ? 'block' : 'none';\n",
              "    })();\n",
              "  </script>\n",
              "</div>\n",
              "\n",
              "    </div>\n",
              "  </div>\n"
            ],
            "text/plain": [
              "                                Name  \\\n",
              "0  Elite 스트레이트 진 | 7 For All Mankind   \n",
              "1       로우라이즈 부츠컷 진  | Saint Laurent   \n",
              "2               Marlo 스트레이트 진 | Tove   \n",
              "3   Nedar 하이라이즈 스트레이트 진 | Loro Piana   \n",
              "4                   스트레이트 진 | Toteme   \n",
              "\n",
              "                                           Image URL  label  \n",
              "0  https://img.mytheresa.com/652/738/100/jpeg/cat...   6204  \n",
              "1  https://img.mytheresa.com/652/738/100/jpeg/cat...   6204  \n",
              "2  https://img.mytheresa.com/652/738/100/jpeg/cat...   6204  \n",
              "3  https://img.mytheresa.com/652/738/100/jpeg/cat...   6204  \n",
              "4  https://img.mytheresa.com/652/738/100/jpeg/cat...   6204  "
            ]
          },
          "execution_count": 11,
          "metadata": {},
          "output_type": "execute_result"
        }
      ],
      "source": [
        "df.head()"
      ]
    },
    {
      "cell_type": "code",
      "execution_count": null,
      "metadata": {
        "colab": {
          "base_uri": "https://localhost:8080/",
          "height": 206
        },
        "id": "k873gZhbu93m",
        "outputId": "ff9516ea-4518-4f39-af9a-c31a9420d41b"
      },
      "outputs": [
        {
          "data": {
            "application/vnd.google.colaboratory.intrinsic+json": {
              "repr_error": "0",
              "type": "dataframe"
            },
            "text/html": [
              "\n",
              "  <div id=\"df-7f19f56b-6c91-4f14-9287-ec8b3e6eadd4\" class=\"colab-df-container\">\n",
              "    <div>\n",
              "<style scoped>\n",
              "    .dataframe tbody tr th:only-of-type {\n",
              "        vertical-align: middle;\n",
              "    }\n",
              "\n",
              "    .dataframe tbody tr th {\n",
              "        vertical-align: top;\n",
              "    }\n",
              "\n",
              "    .dataframe thead th {\n",
              "        text-align: right;\n",
              "    }\n",
              "</style>\n",
              "<table border=\"1\" class=\"dataframe\">\n",
              "  <thead>\n",
              "    <tr style=\"text-align: right;\">\n",
              "      <th></th>\n",
              "      <th>Name</th>\n",
              "      <th>Image URL</th>\n",
              "      <th>label</th>\n",
              "    </tr>\n",
              "  </thead>\n",
              "  <tbody>\n",
              "    <tr>\n",
              "      <th>17661</th>\n",
              "      <td>NaN</td>\n",
              "      <td>NaN</td>\n",
              "      <td>6102</td>\n",
              "    </tr>\n",
              "    <tr>\n",
              "      <th>17662</th>\n",
              "      <td>NaN</td>\n",
              "      <td>NaN</td>\n",
              "      <td>6102</td>\n",
              "    </tr>\n",
              "    <tr>\n",
              "      <th>17663</th>\n",
              "      <td>NaN</td>\n",
              "      <td>NaN</td>\n",
              "      <td>6102</td>\n",
              "    </tr>\n",
              "    <tr>\n",
              "      <th>17664</th>\n",
              "      <td>NaN</td>\n",
              "      <td>NaN</td>\n",
              "      <td>6102</td>\n",
              "    </tr>\n",
              "    <tr>\n",
              "      <th>17665</th>\n",
              "      <td>NaN</td>\n",
              "      <td>NaN</td>\n",
              "      <td>6102</td>\n",
              "    </tr>\n",
              "  </tbody>\n",
              "</table>\n",
              "</div>\n",
              "    <div class=\"colab-df-buttons\">\n",
              "\n",
              "  <div class=\"colab-df-container\">\n",
              "    <button class=\"colab-df-convert\" onclick=\"convertToInteractive('df-7f19f56b-6c91-4f14-9287-ec8b3e6eadd4')\"\n",
              "            title=\"Convert this dataframe to an interactive table.\"\n",
              "            style=\"display:none;\">\n",
              "\n",
              "  <svg xmlns=\"http://www.w3.org/2000/svg\" height=\"24px\" viewBox=\"0 -960 960 960\">\n",
              "    <path d=\"M120-120v-720h720v720H120Zm60-500h600v-160H180v160Zm220 220h160v-160H400v160Zm0 220h160v-160H400v160ZM180-400h160v-160H180v160Zm440 0h160v-160H620v160ZM180-180h160v-160H180v160Zm440 0h160v-160H620v160Z\"/>\n",
              "  </svg>\n",
              "    </button>\n",
              "\n",
              "  <style>\n",
              "    .colab-df-container {\n",
              "      display:flex;\n",
              "      gap: 12px;\n",
              "    }\n",
              "\n",
              "    .colab-df-convert {\n",
              "      background-color: #E8F0FE;\n",
              "      border: none;\n",
              "      border-radius: 50%;\n",
              "      cursor: pointer;\n",
              "      display: none;\n",
              "      fill: #1967D2;\n",
              "      height: 32px;\n",
              "      padding: 0 0 0 0;\n",
              "      width: 32px;\n",
              "    }\n",
              "\n",
              "    .colab-df-convert:hover {\n",
              "      background-color: #E2EBFA;\n",
              "      box-shadow: 0px 1px 2px rgba(60, 64, 67, 0.3), 0px 1px 3px 1px rgba(60, 64, 67, 0.15);\n",
              "      fill: #174EA6;\n",
              "    }\n",
              "\n",
              "    .colab-df-buttons div {\n",
              "      margin-bottom: 4px;\n",
              "    }\n",
              "\n",
              "    [theme=dark] .colab-df-convert {\n",
              "      background-color: #3B4455;\n",
              "      fill: #D2E3FC;\n",
              "    }\n",
              "\n",
              "    [theme=dark] .colab-df-convert:hover {\n",
              "      background-color: #434B5C;\n",
              "      box-shadow: 0px 1px 3px 1px rgba(0, 0, 0, 0.15);\n",
              "      filter: drop-shadow(0px 1px 2px rgba(0, 0, 0, 0.3));\n",
              "      fill: #FFFFFF;\n",
              "    }\n",
              "  </style>\n",
              "\n",
              "    <script>\n",
              "      const buttonEl =\n",
              "        document.querySelector('#df-7f19f56b-6c91-4f14-9287-ec8b3e6eadd4 button.colab-df-convert');\n",
              "      buttonEl.style.display =\n",
              "        google.colab.kernel.accessAllowed ? 'block' : 'none';\n",
              "\n",
              "      async function convertToInteractive(key) {\n",
              "        const element = document.querySelector('#df-7f19f56b-6c91-4f14-9287-ec8b3e6eadd4');\n",
              "        const dataTable =\n",
              "          await google.colab.kernel.invokeFunction('convertToInteractive',\n",
              "                                                    [key], {});\n",
              "        if (!dataTable) return;\n",
              "\n",
              "        const docLinkHtml = 'Like what you see? Visit the ' +\n",
              "          '<a target=\"_blank\" href=https://colab.research.google.com/notebooks/data_table.ipynb>data table notebook</a>'\n",
              "          + ' to learn more about interactive tables.';\n",
              "        element.innerHTML = '';\n",
              "        dataTable['output_type'] = 'display_data';\n",
              "        await google.colab.output.renderOutput(dataTable, element);\n",
              "        const docLink = document.createElement('div');\n",
              "        docLink.innerHTML = docLinkHtml;\n",
              "        element.appendChild(docLink);\n",
              "      }\n",
              "    </script>\n",
              "  </div>\n",
              "\n",
              "\n",
              "<div id=\"df-9b7dc19c-adb7-417c-8d83-a59e4c4da634\">\n",
              "  <button class=\"colab-df-quickchart\" onclick=\"quickchart('df-9b7dc19c-adb7-417c-8d83-a59e4c4da634')\"\n",
              "            title=\"Suggest charts\"\n",
              "            style=\"display:none;\">\n",
              "\n",
              "<svg xmlns=\"http://www.w3.org/2000/svg\" height=\"24px\"viewBox=\"0 0 24 24\"\n",
              "     width=\"24px\">\n",
              "    <g>\n",
              "        <path d=\"M19 3H5c-1.1 0-2 .9-2 2v14c0 1.1.9 2 2 2h14c1.1 0 2-.9 2-2V5c0-1.1-.9-2-2-2zM9 17H7v-7h2v7zm4 0h-2V7h2v10zm4 0h-2v-4h2v4z\"/>\n",
              "    </g>\n",
              "</svg>\n",
              "  </button>\n",
              "\n",
              "<style>\n",
              "  .colab-df-quickchart {\n",
              "      --bg-color: #E8F0FE;\n",
              "      --fill-color: #1967D2;\n",
              "      --hover-bg-color: #E2EBFA;\n",
              "      --hover-fill-color: #174EA6;\n",
              "      --disabled-fill-color: #AAA;\n",
              "      --disabled-bg-color: #DDD;\n",
              "  }\n",
              "\n",
              "  [theme=dark] .colab-df-quickchart {\n",
              "      --bg-color: #3B4455;\n",
              "      --fill-color: #D2E3FC;\n",
              "      --hover-bg-color: #434B5C;\n",
              "      --hover-fill-color: #FFFFFF;\n",
              "      --disabled-bg-color: #3B4455;\n",
              "      --disabled-fill-color: #666;\n",
              "  }\n",
              "\n",
              "  .colab-df-quickchart {\n",
              "    background-color: var(--bg-color);\n",
              "    border: none;\n",
              "    border-radius: 50%;\n",
              "    cursor: pointer;\n",
              "    display: none;\n",
              "    fill: var(--fill-color);\n",
              "    height: 32px;\n",
              "    padding: 0;\n",
              "    width: 32px;\n",
              "  }\n",
              "\n",
              "  .colab-df-quickchart:hover {\n",
              "    background-color: var(--hover-bg-color);\n",
              "    box-shadow: 0 1px 2px rgba(60, 64, 67, 0.3), 0 1px 3px 1px rgba(60, 64, 67, 0.15);\n",
              "    fill: var(--button-hover-fill-color);\n",
              "  }\n",
              "\n",
              "  .colab-df-quickchart-complete:disabled,\n",
              "  .colab-df-quickchart-complete:disabled:hover {\n",
              "    background-color: var(--disabled-bg-color);\n",
              "    fill: var(--disabled-fill-color);\n",
              "    box-shadow: none;\n",
              "  }\n",
              "\n",
              "  .colab-df-spinner {\n",
              "    border: 2px solid var(--fill-color);\n",
              "    border-color: transparent;\n",
              "    border-bottom-color: var(--fill-color);\n",
              "    animation:\n",
              "      spin 1s steps(1) infinite;\n",
              "  }\n",
              "\n",
              "  @keyframes spin {\n",
              "    0% {\n",
              "      border-color: transparent;\n",
              "      border-bottom-color: var(--fill-color);\n",
              "      border-left-color: var(--fill-color);\n",
              "    }\n",
              "    20% {\n",
              "      border-color: transparent;\n",
              "      border-left-color: var(--fill-color);\n",
              "      border-top-color: var(--fill-color);\n",
              "    }\n",
              "    30% {\n",
              "      border-color: transparent;\n",
              "      border-left-color: var(--fill-color);\n",
              "      border-top-color: var(--fill-color);\n",
              "      border-right-color: var(--fill-color);\n",
              "    }\n",
              "    40% {\n",
              "      border-color: transparent;\n",
              "      border-right-color: var(--fill-color);\n",
              "      border-top-color: var(--fill-color);\n",
              "    }\n",
              "    60% {\n",
              "      border-color: transparent;\n",
              "      border-right-color: var(--fill-color);\n",
              "    }\n",
              "    80% {\n",
              "      border-color: transparent;\n",
              "      border-right-color: var(--fill-color);\n",
              "      border-bottom-color: var(--fill-color);\n",
              "    }\n",
              "    90% {\n",
              "      border-color: transparent;\n",
              "      border-bottom-color: var(--fill-color);\n",
              "    }\n",
              "  }\n",
              "</style>\n",
              "\n",
              "  <script>\n",
              "    async function quickchart(key) {\n",
              "      const quickchartButtonEl =\n",
              "        document.querySelector('#' + key + ' button');\n",
              "      quickchartButtonEl.disabled = true;  // To prevent multiple clicks.\n",
              "      quickchartButtonEl.classList.add('colab-df-spinner');\n",
              "      try {\n",
              "        const charts = await google.colab.kernel.invokeFunction(\n",
              "            'suggestCharts', [key], {});\n",
              "      } catch (error) {\n",
              "        console.error('Error during call to suggestCharts:', error);\n",
              "      }\n",
              "      quickchartButtonEl.classList.remove('colab-df-spinner');\n",
              "      quickchartButtonEl.classList.add('colab-df-quickchart-complete');\n",
              "    }\n",
              "    (() => {\n",
              "      let quickchartButtonEl =\n",
              "        document.querySelector('#df-9b7dc19c-adb7-417c-8d83-a59e4c4da634 button');\n",
              "      quickchartButtonEl.style.display =\n",
              "        google.colab.kernel.accessAllowed ? 'block' : 'none';\n",
              "    })();\n",
              "  </script>\n",
              "</div>\n",
              "\n",
              "    </div>\n",
              "  </div>\n"
            ],
            "text/plain": [
              "      Name Image URL  label\n",
              "17661  NaN       NaN   6102\n",
              "17662  NaN       NaN   6102\n",
              "17663  NaN       NaN   6102\n",
              "17664  NaN       NaN   6102\n",
              "17665  NaN       NaN   6102"
            ]
          },
          "execution_count": 12,
          "metadata": {},
          "output_type": "execute_result"
        }
      ],
      "source": [
        "df.tail()"
      ]
    },
    {
      "cell_type": "code",
      "execution_count": null,
      "metadata": {
        "colab": {
          "base_uri": "https://localhost:8080/"
        },
        "id": "cHVB84gvu-xG",
        "outputId": "cb9e66a7-625a-4953-ea29-8ae1239551a7"
      },
      "outputs": [
        {
          "name": "stdout",
          "output_type": "stream",
          "text": [
            "<class 'pandas.core.frame.DataFrame'>\n",
            "RangeIndex: 17666 entries, 0 to 17665\n",
            "Data columns (total 3 columns):\n",
            " #   Column     Non-Null Count  Dtype \n",
            "---  ------     --------------  ----- \n",
            " 0   Name       11954 non-null  object\n",
            " 1   Image URL  11954 non-null  object\n",
            " 2   label      17666 non-null  int64 \n",
            "dtypes: int64(1), object(2)\n",
            "memory usage: 414.2+ KB\n"
          ]
        }
      ],
      "source": [
        "df.info()"
      ]
    },
    {
      "cell_type": "markdown",
      "metadata": {
        "id": "GaKvGxm7vBlu"
      },
      "source": [
        "index 수정하기"
      ]
    },
    {
      "cell_type": "code",
      "execution_count": null,
      "metadata": {
        "colab": {
          "base_uri": "https://localhost:8080/",
          "height": 423
        },
        "id": "OJrfTWY1u__G",
        "outputId": "265c687c-da5e-4b7c-8286-2b0500b66ec0"
      },
      "outputs": [
        {
          "output_type": "execute_result",
          "data": {
            "text/plain": [
              "                                    Name  \\\n",
              "2      Elite 스트레이트 진 | 7 For All Mankind   \n",
              "3           로우라이즈 부츠컷 진  | Saint Laurent   \n",
              "4                   Marlo 스트레이트 진 | Tove   \n",
              "5       Nedar 하이라이즈 스트레이트 진 | Loro Piana   \n",
              "6                       스트레이트 진 | Toteme   \n",
              "...                                  ...   \n",
              "17663                                NaN   \n",
              "17664                                NaN   \n",
              "17665                                NaN   \n",
              "17666                                NaN   \n",
              "17667                                NaN   \n",
              "\n",
              "                                               Image URL  label  \n",
              "2      https://img.mytheresa.com/652/738/100/jpeg/cat...   6204  \n",
              "3      https://img.mytheresa.com/652/738/100/jpeg/cat...   6204  \n",
              "4      https://img.mytheresa.com/652/738/100/jpeg/cat...   6204  \n",
              "5      https://img.mytheresa.com/652/738/100/jpeg/cat...   6204  \n",
              "6      https://img.mytheresa.com/652/738/100/jpeg/cat...   6204  \n",
              "...                                                  ...    ...  \n",
              "17663                                                NaN   6102  \n",
              "17664                                                NaN   6102  \n",
              "17665                                                NaN   6102  \n",
              "17666                                                NaN   6102  \n",
              "17667                                                NaN   6102  \n",
              "\n",
              "[17666 rows x 3 columns]"
            ],
            "text/html": [
              "\n",
              "  <div id=\"df-972eff7e-aa98-4b31-b457-998ef9b8fff9\" class=\"colab-df-container\">\n",
              "    <div>\n",
              "<style scoped>\n",
              "    .dataframe tbody tr th:only-of-type {\n",
              "        vertical-align: middle;\n",
              "    }\n",
              "\n",
              "    .dataframe tbody tr th {\n",
              "        vertical-align: top;\n",
              "    }\n",
              "\n",
              "    .dataframe thead th {\n",
              "        text-align: right;\n",
              "    }\n",
              "</style>\n",
              "<table border=\"1\" class=\"dataframe\">\n",
              "  <thead>\n",
              "    <tr style=\"text-align: right;\">\n",
              "      <th></th>\n",
              "      <th>Name</th>\n",
              "      <th>Image URL</th>\n",
              "      <th>label</th>\n",
              "    </tr>\n",
              "  </thead>\n",
              "  <tbody>\n",
              "    <tr>\n",
              "      <th>2</th>\n",
              "      <td>Elite 스트레이트 진 | 7 For All Mankind</td>\n",
              "      <td>https://img.mytheresa.com/652/738/100/jpeg/cat...</td>\n",
              "      <td>6204</td>\n",
              "    </tr>\n",
              "    <tr>\n",
              "      <th>3</th>\n",
              "      <td>로우라이즈 부츠컷 진  | Saint Laurent</td>\n",
              "      <td>https://img.mytheresa.com/652/738/100/jpeg/cat...</td>\n",
              "      <td>6204</td>\n",
              "    </tr>\n",
              "    <tr>\n",
              "      <th>4</th>\n",
              "      <td>Marlo 스트레이트 진 | Tove</td>\n",
              "      <td>https://img.mytheresa.com/652/738/100/jpeg/cat...</td>\n",
              "      <td>6204</td>\n",
              "    </tr>\n",
              "    <tr>\n",
              "      <th>5</th>\n",
              "      <td>Nedar 하이라이즈 스트레이트 진 | Loro Piana</td>\n",
              "      <td>https://img.mytheresa.com/652/738/100/jpeg/cat...</td>\n",
              "      <td>6204</td>\n",
              "    </tr>\n",
              "    <tr>\n",
              "      <th>6</th>\n",
              "      <td>스트레이트 진 | Toteme</td>\n",
              "      <td>https://img.mytheresa.com/652/738/100/jpeg/cat...</td>\n",
              "      <td>6204</td>\n",
              "    </tr>\n",
              "    <tr>\n",
              "      <th>...</th>\n",
              "      <td>...</td>\n",
              "      <td>...</td>\n",
              "      <td>...</td>\n",
              "    </tr>\n",
              "    <tr>\n",
              "      <th>17663</th>\n",
              "      <td>NaN</td>\n",
              "      <td>NaN</td>\n",
              "      <td>6102</td>\n",
              "    </tr>\n",
              "    <tr>\n",
              "      <th>17664</th>\n",
              "      <td>NaN</td>\n",
              "      <td>NaN</td>\n",
              "      <td>6102</td>\n",
              "    </tr>\n",
              "    <tr>\n",
              "      <th>17665</th>\n",
              "      <td>NaN</td>\n",
              "      <td>NaN</td>\n",
              "      <td>6102</td>\n",
              "    </tr>\n",
              "    <tr>\n",
              "      <th>17666</th>\n",
              "      <td>NaN</td>\n",
              "      <td>NaN</td>\n",
              "      <td>6102</td>\n",
              "    </tr>\n",
              "    <tr>\n",
              "      <th>17667</th>\n",
              "      <td>NaN</td>\n",
              "      <td>NaN</td>\n",
              "      <td>6102</td>\n",
              "    </tr>\n",
              "  </tbody>\n",
              "</table>\n",
              "<p>17666 rows × 3 columns</p>\n",
              "</div>\n",
              "    <div class=\"colab-df-buttons\">\n",
              "\n",
              "  <div class=\"colab-df-container\">\n",
              "    <button class=\"colab-df-convert\" onclick=\"convertToInteractive('df-972eff7e-aa98-4b31-b457-998ef9b8fff9')\"\n",
              "            title=\"Convert this dataframe to an interactive table.\"\n",
              "            style=\"display:none;\">\n",
              "\n",
              "  <svg xmlns=\"http://www.w3.org/2000/svg\" height=\"24px\" viewBox=\"0 -960 960 960\">\n",
              "    <path d=\"M120-120v-720h720v720H120Zm60-500h600v-160H180v160Zm220 220h160v-160H400v160Zm0 220h160v-160H400v160ZM180-400h160v-160H180v160Zm440 0h160v-160H620v160ZM180-180h160v-160H180v160Zm440 0h160v-160H620v160Z\"/>\n",
              "  </svg>\n",
              "    </button>\n",
              "\n",
              "  <style>\n",
              "    .colab-df-container {\n",
              "      display:flex;\n",
              "      gap: 12px;\n",
              "    }\n",
              "\n",
              "    .colab-df-convert {\n",
              "      background-color: #E8F0FE;\n",
              "      border: none;\n",
              "      border-radius: 50%;\n",
              "      cursor: pointer;\n",
              "      display: none;\n",
              "      fill: #1967D2;\n",
              "      height: 32px;\n",
              "      padding: 0 0 0 0;\n",
              "      width: 32px;\n",
              "    }\n",
              "\n",
              "    .colab-df-convert:hover {\n",
              "      background-color: #E2EBFA;\n",
              "      box-shadow: 0px 1px 2px rgba(60, 64, 67, 0.3), 0px 1px 3px 1px rgba(60, 64, 67, 0.15);\n",
              "      fill: #174EA6;\n",
              "    }\n",
              "\n",
              "    .colab-df-buttons div {\n",
              "      margin-bottom: 4px;\n",
              "    }\n",
              "\n",
              "    [theme=dark] .colab-df-convert {\n",
              "      background-color: #3B4455;\n",
              "      fill: #D2E3FC;\n",
              "    }\n",
              "\n",
              "    [theme=dark] .colab-df-convert:hover {\n",
              "      background-color: #434B5C;\n",
              "      box-shadow: 0px 1px 3px 1px rgba(0, 0, 0, 0.15);\n",
              "      filter: drop-shadow(0px 1px 2px rgba(0, 0, 0, 0.3));\n",
              "      fill: #FFFFFF;\n",
              "    }\n",
              "  </style>\n",
              "\n",
              "    <script>\n",
              "      const buttonEl =\n",
              "        document.querySelector('#df-972eff7e-aa98-4b31-b457-998ef9b8fff9 button.colab-df-convert');\n",
              "      buttonEl.style.display =\n",
              "        google.colab.kernel.accessAllowed ? 'block' : 'none';\n",
              "\n",
              "      async function convertToInteractive(key) {\n",
              "        const element = document.querySelector('#df-972eff7e-aa98-4b31-b457-998ef9b8fff9');\n",
              "        const dataTable =\n",
              "          await google.colab.kernel.invokeFunction('convertToInteractive',\n",
              "                                                    [key], {});\n",
              "        if (!dataTable) return;\n",
              "\n",
              "        const docLinkHtml = 'Like what you see? Visit the ' +\n",
              "          '<a target=\"_blank\" href=https://colab.research.google.com/notebooks/data_table.ipynb>data table notebook</a>'\n",
              "          + ' to learn more about interactive tables.';\n",
              "        element.innerHTML = '';\n",
              "        dataTable['output_type'] = 'display_data';\n",
              "        await google.colab.output.renderOutput(dataTable, element);\n",
              "        const docLink = document.createElement('div');\n",
              "        docLink.innerHTML = docLinkHtml;\n",
              "        element.appendChild(docLink);\n",
              "      }\n",
              "    </script>\n",
              "  </div>\n",
              "\n",
              "\n",
              "<div id=\"df-a7af31ba-c5fd-44fe-a1af-50de977e967d\">\n",
              "  <button class=\"colab-df-quickchart\" onclick=\"quickchart('df-a7af31ba-c5fd-44fe-a1af-50de977e967d')\"\n",
              "            title=\"Suggest charts\"\n",
              "            style=\"display:none;\">\n",
              "\n",
              "<svg xmlns=\"http://www.w3.org/2000/svg\" height=\"24px\"viewBox=\"0 0 24 24\"\n",
              "     width=\"24px\">\n",
              "    <g>\n",
              "        <path d=\"M19 3H5c-1.1 0-2 .9-2 2v14c0 1.1.9 2 2 2h14c1.1 0 2-.9 2-2V5c0-1.1-.9-2-2-2zM9 17H7v-7h2v7zm4 0h-2V7h2v10zm4 0h-2v-4h2v4z\"/>\n",
              "    </g>\n",
              "</svg>\n",
              "  </button>\n",
              "\n",
              "<style>\n",
              "  .colab-df-quickchart {\n",
              "      --bg-color: #E8F0FE;\n",
              "      --fill-color: #1967D2;\n",
              "      --hover-bg-color: #E2EBFA;\n",
              "      --hover-fill-color: #174EA6;\n",
              "      --disabled-fill-color: #AAA;\n",
              "      --disabled-bg-color: #DDD;\n",
              "  }\n",
              "\n",
              "  [theme=dark] .colab-df-quickchart {\n",
              "      --bg-color: #3B4455;\n",
              "      --fill-color: #D2E3FC;\n",
              "      --hover-bg-color: #434B5C;\n",
              "      --hover-fill-color: #FFFFFF;\n",
              "      --disabled-bg-color: #3B4455;\n",
              "      --disabled-fill-color: #666;\n",
              "  }\n",
              "\n",
              "  .colab-df-quickchart {\n",
              "    background-color: var(--bg-color);\n",
              "    border: none;\n",
              "    border-radius: 50%;\n",
              "    cursor: pointer;\n",
              "    display: none;\n",
              "    fill: var(--fill-color);\n",
              "    height: 32px;\n",
              "    padding: 0;\n",
              "    width: 32px;\n",
              "  }\n",
              "\n",
              "  .colab-df-quickchart:hover {\n",
              "    background-color: var(--hover-bg-color);\n",
              "    box-shadow: 0 1px 2px rgba(60, 64, 67, 0.3), 0 1px 3px 1px rgba(60, 64, 67, 0.15);\n",
              "    fill: var(--button-hover-fill-color);\n",
              "  }\n",
              "\n",
              "  .colab-df-quickchart-complete:disabled,\n",
              "  .colab-df-quickchart-complete:disabled:hover {\n",
              "    background-color: var(--disabled-bg-color);\n",
              "    fill: var(--disabled-fill-color);\n",
              "    box-shadow: none;\n",
              "  }\n",
              "\n",
              "  .colab-df-spinner {\n",
              "    border: 2px solid var(--fill-color);\n",
              "    border-color: transparent;\n",
              "    border-bottom-color: var(--fill-color);\n",
              "    animation:\n",
              "      spin 1s steps(1) infinite;\n",
              "  }\n",
              "\n",
              "  @keyframes spin {\n",
              "    0% {\n",
              "      border-color: transparent;\n",
              "      border-bottom-color: var(--fill-color);\n",
              "      border-left-color: var(--fill-color);\n",
              "    }\n",
              "    20% {\n",
              "      border-color: transparent;\n",
              "      border-left-color: var(--fill-color);\n",
              "      border-top-color: var(--fill-color);\n",
              "    }\n",
              "    30% {\n",
              "      border-color: transparent;\n",
              "      border-left-color: var(--fill-color);\n",
              "      border-top-color: var(--fill-color);\n",
              "      border-right-color: var(--fill-color);\n",
              "    }\n",
              "    40% {\n",
              "      border-color: transparent;\n",
              "      border-right-color: var(--fill-color);\n",
              "      border-top-color: var(--fill-color);\n",
              "    }\n",
              "    60% {\n",
              "      border-color: transparent;\n",
              "      border-right-color: var(--fill-color);\n",
              "    }\n",
              "    80% {\n",
              "      border-color: transparent;\n",
              "      border-right-color: var(--fill-color);\n",
              "      border-bottom-color: var(--fill-color);\n",
              "    }\n",
              "    90% {\n",
              "      border-color: transparent;\n",
              "      border-bottom-color: var(--fill-color);\n",
              "    }\n",
              "  }\n",
              "</style>\n",
              "\n",
              "  <script>\n",
              "    async function quickchart(key) {\n",
              "      const quickchartButtonEl =\n",
              "        document.querySelector('#' + key + ' button');\n",
              "      quickchartButtonEl.disabled = true;  // To prevent multiple clicks.\n",
              "      quickchartButtonEl.classList.add('colab-df-spinner');\n",
              "      try {\n",
              "        const charts = await google.colab.kernel.invokeFunction(\n",
              "            'suggestCharts', [key], {});\n",
              "      } catch (error) {\n",
              "        console.error('Error during call to suggestCharts:', error);\n",
              "      }\n",
              "      quickchartButtonEl.classList.remove('colab-df-spinner');\n",
              "      quickchartButtonEl.classList.add('colab-df-quickchart-complete');\n",
              "    }\n",
              "    (() => {\n",
              "      let quickchartButtonEl =\n",
              "        document.querySelector('#df-a7af31ba-c5fd-44fe-a1af-50de977e967d button');\n",
              "      quickchartButtonEl.style.display =\n",
              "        google.colab.kernel.accessAllowed ? 'block' : 'none';\n",
              "    })();\n",
              "  </script>\n",
              "</div>\n",
              "\n",
              "  <div id=\"id_a17a05ee-394b-4506-ab17-262d5f28767f\">\n",
              "    <style>\n",
              "      .colab-df-generate {\n",
              "        background-color: #E8F0FE;\n",
              "        border: none;\n",
              "        border-radius: 50%;\n",
              "        cursor: pointer;\n",
              "        display: none;\n",
              "        fill: #1967D2;\n",
              "        height: 32px;\n",
              "        padding: 0 0 0 0;\n",
              "        width: 32px;\n",
              "      }\n",
              "\n",
              "      .colab-df-generate:hover {\n",
              "        background-color: #E2EBFA;\n",
              "        box-shadow: 0px 1px 2px rgba(60, 64, 67, 0.3), 0px 1px 3px 1px rgba(60, 64, 67, 0.15);\n",
              "        fill: #174EA6;\n",
              "      }\n",
              "\n",
              "      [theme=dark] .colab-df-generate {\n",
              "        background-color: #3B4455;\n",
              "        fill: #D2E3FC;\n",
              "      }\n",
              "\n",
              "      [theme=dark] .colab-df-generate:hover {\n",
              "        background-color: #434B5C;\n",
              "        box-shadow: 0px 1px 3px 1px rgba(0, 0, 0, 0.15);\n",
              "        filter: drop-shadow(0px 1px 2px rgba(0, 0, 0, 0.3));\n",
              "        fill: #FFFFFF;\n",
              "      }\n",
              "    </style>\n",
              "    <button class=\"colab-df-generate\" onclick=\"generateWithVariable('df')\"\n",
              "            title=\"Generate code using this dataframe.\"\n",
              "            style=\"display:none;\">\n",
              "\n",
              "  <svg xmlns=\"http://www.w3.org/2000/svg\" height=\"24px\"viewBox=\"0 0 24 24\"\n",
              "       width=\"24px\">\n",
              "    <path d=\"M7,19H8.4L18.45,9,17,7.55,7,17.6ZM5,21V16.75L18.45,3.32a2,2,0,0,1,2.83,0l1.4,1.43a1.91,1.91,0,0,1,.58,1.4,1.91,1.91,0,0,1-.58,1.4L9.25,21ZM18.45,9,17,7.55Zm-12,3A5.31,5.31,0,0,0,4.9,8.1,5.31,5.31,0,0,0,1,6.5,5.31,5.31,0,0,0,4.9,4.9,5.31,5.31,0,0,0,6.5,1,5.31,5.31,0,0,0,8.1,4.9,5.31,5.31,0,0,0,12,6.5,5.46,5.46,0,0,0,6.5,12Z\"/>\n",
              "  </svg>\n",
              "    </button>\n",
              "    <script>\n",
              "      (() => {\n",
              "      const buttonEl =\n",
              "        document.querySelector('#id_a17a05ee-394b-4506-ab17-262d5f28767f button.colab-df-generate');\n",
              "      buttonEl.style.display =\n",
              "        google.colab.kernel.accessAllowed ? 'block' : 'none';\n",
              "\n",
              "      buttonEl.onclick = () => {\n",
              "        google.colab.notebook.generateWithVariable('df');\n",
              "      }\n",
              "      })();\n",
              "    </script>\n",
              "  </div>\n",
              "\n",
              "    </div>\n",
              "  </div>\n"
            ],
            "application/vnd.google.colaboratory.intrinsic+json": {
              "type": "dataframe",
              "variable_name": "df",
              "summary": "{\n  \"name\": \"df\",\n  \"rows\": 17666,\n  \"fields\": [\n    {\n      \"column\": \"Name\",\n      \"properties\": {\n        \"dtype\": \"string\",\n        \"num_unique_values\": 9244,\n        \"samples\": [\n          \"\\ucf54\\ud2bc \\ube14\\ub80c\\ub4dc \\uc7ac\\ud0b7 | Canali\",\n          \"Furlong \\uc2dc\\uc5b4\\ub9c1 \\ud2b8\\ub9ac\\ubc0d \\ud53c\\ucf54\\ud2b8 | Visvim\",\n          \"Compass \\ud03c\\ud305 \\ubca0\\uc2a4\\ud2b8 | Stone Island\"\n        ],\n        \"semantic_type\": \"\",\n        \"description\": \"\"\n      }\n    },\n    {\n      \"column\": \"Image URL\",\n      \"properties\": {\n        \"dtype\": \"string\",\n        \"num_unique_values\": 11442,\n        \"samples\": [\n          \"https://img.mytheresa.com/652/738/100/jpeg/catalog/product/fd/P00911186.jpg\",\n          \"https://img.mytheresa.com/652/738/100/jpeg/catalog/product/4e/P00925413.jpg\",\n          \"https://img.mytheresa.com/652/738/100/jpeg/catalog/product/5f/P00939448.jpg\"\n        ],\n        \"semantic_type\": \"\",\n        \"description\": \"\"\n      }\n    },\n    {\n      \"column\": \"label\",\n      \"properties\": {\n        \"dtype\": \"number\",\n        \"std\": 48,\n        \"min\": 6101,\n        \"max\": 6206,\n        \"num_unique_values\": 14,\n        \"samples\": [\n          6102,\n          6201,\n          6204\n        ],\n        \"semantic_type\": \"\",\n        \"description\": \"\"\n      }\n    }\n  ]\n}"
            }
          },
          "metadata": {},
          "execution_count": 11
        }
      ],
      "source": [
        "# 인덱스 변경\n",
        "df.index = range(2, 17668)\n",
        "df"
      ]
    },
    {
      "cell_type": "markdown",
      "metadata": {
        "id": "fv-BTMinvVfP"
      },
      "source": [
        "=> 정상적으로 인덱스 변경"
      ]
    },
    {
      "cell_type": "markdown",
      "metadata": {
        "id": "T74Cw9NAvXfw"
      },
      "source": [
        "이미지 데이터 전처리"
      ]
    },
    {
      "cell_type": "code",
      "execution_count": null,
      "metadata": {
        "id": "PRvTpsflvIBv"
      },
      "outputs": [],
      "source": [
        "# 이미지 데이터 불러오기 및 전처리\n",
        "image_size = (128, 128)  # 이미지 크기 조정\n",
        "images = []\n",
        "labels = []"
      ]
    },
    {
      "cell_type": "code",
      "execution_count": null,
      "metadata": {
        "id": "jj3d7mY2xTO4"
      },
      "outputs": [],
      "source": [
        "# 다양한 확장자를 고려한 함수\n",
        "def find_image_path(idx, folder_path):\n",
        "    extensions = ['png', 'jpg', 'JPG', 'PNG']\n",
        "    for ext in extensions:\n",
        "        img_path = os.path.join(folder_path, f'{idx}.{ext}')\n",
        "        if os.path.exists(img_path):\n",
        "            return img_path\n",
        "    return None"
      ]
    },
    {
      "cell_type": "code",
      "execution_count": null,
      "metadata": {
        "id": "dyVHMel-xT3T"
      },
      "outputs": [],
      "source": [
        "# 이미지 데이터 불러오기 및 전처리\n",
        "for idx in df.index:\n",
        "    img_path = find_image_path(idx, folder_path)\n",
        "    if img_path:\n",
        "        img = cv2.imread(img_path)\n",
        "        img = cv2.resize(img, image_size)\n",
        "        images.append(img)\n",
        "        labels.append(df.loc[idx, 'label'])  # df의 'label' 컬럼 사용"
      ]
    },
    {
      "cell_type": "code",
      "execution_count": null,
      "metadata": {
        "colab": {
          "base_uri": "https://localhost:8080/"
        },
        "id": "mUsig_6exWGZ",
        "outputId": "538337ff-397f-45af-f0c3-7fc72ea6fff7"
      },
      "outputs": [
        {
          "output_type": "stream",
          "name": "stdout",
          "text": [
            "Total images loaded: 17666\n",
            "Total labels loaded: 17666\n"
          ]
        }
      ],
      "source": [
        "# 이미지와 레이블의 수를 확인\n",
        "print(f\"Total images loaded: {len(images)}\")\n",
        "print(f\"Total labels loaded: {len(labels)}\")"
      ]
    },
    {
      "cell_type": "markdown",
      "metadata": {
        "id": "jhCLUP7E7-u6"
      },
      "source": [
        "원핫 인코딩"
      ]
    },
    {
      "cell_type": "code",
      "execution_count": null,
      "metadata": {
        "id": "6K3XZ4fR8ACA"
      },
      "outputs": [],
      "source": [
        "# 이미지를 numpy 배열로 변환\n",
        "X = np.array(images)\n",
        "y = np.array(labels)"
      ]
    },
    {
      "cell_type": "code",
      "execution_count": null,
      "metadata": {
        "id": "099LFJGI8EvN"
      },
      "outputs": [],
      "source": [
        "# 데이터 정규화\n",
        "X = X / 255.0"
      ]
    },
    {
      "cell_type": "code",
      "execution_count": null,
      "metadata": {
        "colab": {
          "base_uri": "https://localhost:8080/"
        },
        "id": "d0PJuGjx8GOk",
        "outputId": "79dac8e3-5487-4ae5-a05e-c44ef4b8a953"
      },
      "outputs": [
        {
          "output_type": "execute_result",
          "data": {
            "text/plain": [
              "array([6204, 6104, 6206, 6203, 6110, 6109, 6105, 6101, 6103, 6102, 6205,\n",
              "       6201, 6106, 6202])"
            ]
          },
          "metadata": {},
          "execution_count": 18
        }
      ],
      "source": [
        "df['label'].unique()"
      ]
    },
    {
      "cell_type": "markdown",
      "metadata": {
        "id": "LFqqUAkSQg7f"
      },
      "source": [
        "=> 총 14개의 라벨"
      ]
    },
    {
      "cell_type": "code",
      "execution_count": null,
      "metadata": {
        "colab": {
          "base_uri": "https://localhost:8080/"
        },
        "id": "ZrTSqC138Jo6",
        "outputId": "83a7d1a2-5989-4ecc-e668-2bcab48ed527"
      },
      "outputs": [
        {
          "output_type": "stream",
          "name": "stderr",
          "text": [
            "/usr/local/lib/python3.10/dist-packages/sklearn/preprocessing/_encoders.py:868: FutureWarning: `sparse` was renamed to `sparse_output` in version 1.2 and will be removed in 1.4. `sparse_output` is ignored unless you leave `sparse` to its default value.\n",
            "  warnings.warn(\n"
          ]
        },
        {
          "output_type": "execute_result",
          "data": {
            "text/plain": [
              "array([[0., 0., 0., ..., 1., 0., 0.],\n",
              "       [0., 0., 0., ..., 1., 0., 0.],\n",
              "       [0., 0., 0., ..., 1., 0., 0.],\n",
              "       ...,\n",
              "       [0., 1., 0., ..., 0., 0., 0.],\n",
              "       [0., 1., 0., ..., 0., 0., 0.],\n",
              "       [0., 1., 0., ..., 0., 0., 0.]])"
            ]
          },
          "metadata": {},
          "execution_count": 19
        }
      ],
      "source": [
        "# OneHotEncoder 객체 생성\n",
        "ohe = OneHotEncoder(sparse=False)\n",
        "\n",
        "# 원-핫 인코딩 적용\n",
        "y = ohe.fit_transform(df[['label']])\n",
        "\n",
        "# 인코딩된 결과 확인\n",
        "y"
      ]
    },
    {
      "cell_type": "code",
      "execution_count": null,
      "metadata": {
        "colab": {
          "base_uri": "https://localhost:8080/"
        },
        "id": "dL3A32q98Mus",
        "outputId": "efd166f0-8073-466e-bc8e-208632799199"
      },
      "outputs": [
        {
          "output_type": "stream",
          "name": "stdout",
          "text": [
            "Original classes: [6101 6102 6103 6104 6105 6106 6109 6110 6201 6202 6203 6204 6205 6206]\n"
          ]
        }
      ],
      "source": [
        "# 원래의 클래스 순서 확인\n",
        "original_classes = ohe.categories_[0]\n",
        "print(\"Original classes:\", original_classes)"
      ]
    },
    {
      "cell_type": "code",
      "execution_count": null,
      "metadata": {
        "colab": {
          "base_uri": "https://localhost:8080/"
        },
        "id": "IAm63Ew58NJF",
        "outputId": "1643c848-a858-476f-f879-0c5646a8e305"
      },
      "outputs": [
        {
          "output_type": "stream",
          "name": "stdout",
          "text": [
            "Original label: 6101, Encoded vector: [1. 0. 0. 0. 0. 0. 0. 0. 0. 0. 0. 0. 0. 0.]\n",
            "Original label: 6102, Encoded vector: [0. 1. 0. 0. 0. 0. 0. 0. 0. 0. 0. 0. 0. 0.]\n",
            "Original label: 6103, Encoded vector: [0. 0. 1. 0. 0. 0. 0. 0. 0. 0. 0. 0. 0. 0.]\n",
            "Original label: 6104, Encoded vector: [0. 0. 0. 1. 0. 0. 0. 0. 0. 0. 0. 0. 0. 0.]\n",
            "Original label: 6105, Encoded vector: [0. 0. 0. 0. 1. 0. 0. 0. 0. 0. 0. 0. 0. 0.]\n",
            "Original label: 6106, Encoded vector: [0. 0. 0. 0. 0. 1. 0. 0. 0. 0. 0. 0. 0. 0.]\n",
            "Original label: 6109, Encoded vector: [0. 0. 0. 0. 0. 0. 1. 0. 0. 0. 0. 0. 0. 0.]\n",
            "Original label: 6110, Encoded vector: [0. 0. 0. 0. 0. 0. 0. 1. 0. 0. 0. 0. 0. 0.]\n",
            "Original label: 6201, Encoded vector: [0. 0. 0. 0. 0. 0. 0. 0. 1. 0. 0. 0. 0. 0.]\n",
            "Original label: 6202, Encoded vector: [0. 0. 0. 0. 0. 0. 0. 0. 0. 1. 0. 0. 0. 0.]\n",
            "Original label: 6203, Encoded vector: [0. 0. 0. 0. 0. 0. 0. 0. 0. 0. 1. 0. 0. 0.]\n",
            "Original label: 6204, Encoded vector: [0. 0. 0. 0. 0. 0. 0. 0. 0. 0. 0. 1. 0. 0.]\n",
            "Original label: 6205, Encoded vector: [0. 0. 0. 0. 0. 0. 0. 0. 0. 0. 0. 0. 1. 0.]\n",
            "Original label: 6206, Encoded vector: [0. 0. 0. 0. 0. 0. 0. 0. 0. 0. 0. 0. 0. 1.]\n"
          ]
        }
      ],
      "source": [
        "for i, label in enumerate(original_classes):\n",
        "    encoded_vector = y[df['label'] == label][0]\n",
        "    print(f\"Original label: {label}, Encoded vector: {encoded_vector}\")"
      ]
    },
    {
      "cell_type": "code",
      "execution_count": null,
      "metadata": {
        "colab": {
          "base_uri": "https://localhost:8080/"
        },
        "id": "yJZDPL0j8OWY",
        "outputId": "19709998-210d-4917-e348-052058cdb72c"
      },
      "outputs": [
        {
          "output_type": "stream",
          "name": "stdout",
          "text": [
            "Train data: 12366\n",
            "Validation data: 3551\n",
            "Test data: 1749\n"
          ]
        }
      ],
      "source": [
        "# train, valid, test 데이터 분리(7:2:1 비율)\n",
        "from sklearn.model_selection import train_test_split\n",
        "\n",
        "# 전체 데이터 중 70%를 train, 나머지 30%를 temp로 나눔\n",
        "X_train, X_temp, y_train, y_temp = train_test_split(X, y, test_size=0.3, random_state=42)\n",
        "\n",
        "# temp 데이터 중 2/3는 validation, 1/3는 test로 나눔\n",
        "X_valid, X_test, y_valid, y_test = train_test_split(X_temp, y_temp, test_size=0.33, random_state=42)\n",
        "\n",
        "# 데이터 비율 확인\n",
        "print(f'Train data: {len(X_train)}')\n",
        "print(f'Validation data: {len(X_valid)}')\n",
        "print(f'Test data: {len(X_test)}')"
      ]
    },
    {
      "cell_type": "markdown",
      "metadata": {
        "id": "1lVzJfnx8Qa4"
      },
      "source": [
        "vgg19"
      ]
    },
    {
      "cell_type": "code",
      "source": [
        "# 가능한 확장자 목록\n",
        "extensions = ['.png', '.jpg', '.PNG']"
      ],
      "metadata": {
        "id": "JgZO9JZ_B2gz"
      },
      "execution_count": null,
      "outputs": []
    },
    {
      "cell_type": "code",
      "source": [
        "# 유효한 파일명 찾기 함수\n",
        "def find_valid_filename(index):\n",
        "    for ext in extensions:\n",
        "        file_path = os.path.join('/content/drive/MyDrive/Colab Notebooks/관세청/final_image', str(index) + ext)\n",
        "        if os.path.exists(file_path):\n",
        "            return str(index) + ext\n",
        "    return None"
      ],
      "metadata": {
        "id": "GOCmGm5UB3tY"
      },
      "execution_count": null,
      "outputs": []
    },
    {
      "cell_type": "code",
      "execution_count": null,
      "metadata": {
        "id": "8AHEITTR8RHY"
      },
      "outputs": [],
      "source": [
        "# 데이터프레임에 유효한 이미지 파일 이름 컬럼 추가\n",
        "df['filename'] = df.index.map(find_valid_filename)\n",
        "\n",
        "# 'label' 컬럼 값을 문자열로 변환\n",
        "df['label'] = df['label'].astype(str)\n",
        "\n",
        "# 데이터 분할 (7:2:1 비율)\n",
        "df_train, df_temp = train_test_split(df, test_size=0.3, stratify=df['label'], random_state=42)\n",
        "df_valid, df_test = train_test_split(df_temp, test_size=0.33, stratify=df_temp['label'], random_state=42)\n",
        "\n",
        "# ImageDataGenerator 설정\n",
        "datagen = ImageDataGenerator(preprocessing_function=preprocess_input)"
      ]
    },
    {
      "cell_type": "code",
      "source": [
        "# 학습 데이터 제너레이터\n",
        "train_generator = datagen.flow_from_dataframe(\n",
        "    df_train,\n",
        "    directory='/content/drive/MyDrive/Colab Notebooks/관세청/final_image',\n",
        "    x_col='filename',\n",
        "    y_col='label',\n",
        "    target_size=(224, 224),\n",
        "    batch_size=32,\n",
        "    class_mode='categorical'\n",
        ")"
      ],
      "metadata": {
        "colab": {
          "base_uri": "https://localhost:8080/"
        },
        "id": "MK0QNtXrAyKs",
        "outputId": "e0046b12-f5b4-4679-d266-9f8b957bab36"
      },
      "execution_count": null,
      "outputs": [
        {
          "output_type": "stream",
          "name": "stdout",
          "text": [
            "Found 12366 validated image filenames belonging to 14 classes.\n"
          ]
        }
      ]
    },
    {
      "cell_type": "code",
      "source": [
        "# 검증 데이터 제너레이터\n",
        "validation_generator = datagen.flow_from_dataframe(\n",
        "    df_valid,\n",
        "    directory='/content/drive/MyDrive/Colab Notebooks/관세청/final_image',\n",
        "    x_col='filename',\n",
        "    y_col='label',\n",
        "    target_size=(224, 224),\n",
        "    batch_size=32,\n",
        "    class_mode='categorical'\n",
        ")"
      ],
      "metadata": {
        "colab": {
          "base_uri": "https://localhost:8080/"
        },
        "id": "iGuYTKqPA4pW",
        "outputId": "fe1143ac-94f2-46ef-db82-47a2722d5e6b"
      },
      "execution_count": null,
      "outputs": [
        {
          "output_type": "stream",
          "name": "stdout",
          "text": [
            "Found 3551 validated image filenames belonging to 14 classes.\n"
          ]
        }
      ]
    },
    {
      "cell_type": "code",
      "source": [
        "# 테스트 데이터 제너레이터\n",
        "test_generator = datagen.flow_from_dataframe(\n",
        "    df_test,\n",
        "    directory='/content/drive/MyDrive/Colab Notebooks/관세청/final_image',\n",
        "    x_col='filename',\n",
        "    y_col='label',\n",
        "    target_size=(224, 224),\n",
        "    batch_size=32,\n",
        "    class_mode='categorical',\n",
        "    shuffle=False\n",
        ")"
      ],
      "metadata": {
        "colab": {
          "base_uri": "https://localhost:8080/"
        },
        "id": "7BLHyZs4A-Jl",
        "outputId": "bb928025-e6fd-442d-df65-9ed4ba35edca"
      },
      "execution_count": null,
      "outputs": [
        {
          "output_type": "stream",
          "name": "stdout",
          "text": [
            "Found 1749 validated image filenames belonging to 14 classes.\n"
          ]
        }
      ]
    },
    {
      "cell_type": "code",
      "source": [
        "# VGG19 모델 불러오기 (사전 훈련된 가중치 사용)\n",
        "base_model = VGG19(weights='imagenet', include_top=False, input_shape=(224, 224, 3))"
      ],
      "metadata": {
        "colab": {
          "base_uri": "https://localhost:8080/"
        },
        "id": "aDKVH8BVBDYH",
        "outputId": "bc8f0f22-a040-4eb6-94f5-73e9754a9416"
      },
      "execution_count": null,
      "outputs": [
        {
          "output_type": "stream",
          "name": "stdout",
          "text": [
            "Downloading data from https://storage.googleapis.com/tensorflow/keras-applications/vgg19/vgg19_weights_tf_dim_ordering_tf_kernels_notop.h5\n",
            "80134624/80134624 [==============================] - 0s 0us/step\n"
          ]
        }
      ]
    },
    {
      "cell_type": "code",
      "source": [
        "# 모델 구조 정의\n",
        "num_classes = len(train_generator.class_indices)\n",
        "model = Sequential([\n",
        "    base_model,\n",
        "    GlobalAveragePooling2D(),\n",
        "    Dense(256, activation='relu'),\n",
        "    Dropout(0.5),\n",
        "    Dense(num_classes, activation='softmax')\n",
        "])"
      ],
      "metadata": {
        "id": "N1wjDEvYCaUo"
      },
      "execution_count": null,
      "outputs": []
    },
    {
      "cell_type": "code",
      "source": [
        "# 기존 층을 학습되지 않도록 고정\n",
        "for layer in base_model.layers:\n",
        "    layer.trainable = False"
      ],
      "metadata": {
        "id": "hgjFm28uCddG"
      },
      "execution_count": null,
      "outputs": []
    },
    {
      "cell_type": "code",
      "source": [
        "# 모델 컴파일\n",
        "model.compile(optimizer=Adam(learning_rate=1e-4), loss='categorical_crossentropy', metrics=['accuracy'])"
      ],
      "metadata": {
        "id": "e2YB9Kg7Ce1o"
      },
      "execution_count": null,
      "outputs": []
    },
    {
      "cell_type": "code",
      "source": [
        "# 조기 종료 콜백\n",
        "early_stopping = EarlyStopping(monitor='val_loss', patience=5, restore_best_weights=True)"
      ],
      "metadata": {
        "id": "0jHnzRjmCgd1"
      },
      "execution_count": null,
      "outputs": []
    },
    {
      "cell_type": "code",
      "source": [
        "# 모델 학습\n",
        "history = model.fit(\n",
        "    train_generator,\n",
        "    validation_data=validation_generator,\n",
        "    epochs=100,\n",
        "    steps_per_epoch=train_generator.samples // train_generator.batch_size,\n",
        "    validation_steps=validation_generator.samples // validation_generator.batch_size,\n",
        "    callbacks=[early_stopping]\n",
        ")"
      ],
      "metadata": {
        "colab": {
          "base_uri": "https://localhost:8080/"
        },
        "id": "n5aEURbXCiAP",
        "outputId": "d6886c7e-e623-4c03-ef35-e79855bb0007"
      },
      "execution_count": null,
      "outputs": [
        {
          "output_type": "stream",
          "name": "stdout",
          "text": [
            "Epoch 1/100\n",
            "386/386 [==============================] - 234s 581ms/step - loss: 4.2192 - accuracy: 0.2125 - val_loss: 1.7097 - val_accuracy: 0.4452\n",
            "Epoch 2/100\n",
            "386/386 [==============================] - 225s 583ms/step - loss: 2.0471 - accuracy: 0.3848 - val_loss: 1.4382 - val_accuracy: 0.5469\n",
            "Epoch 3/100\n",
            "386/386 [==============================] - 226s 585ms/step - loss: 1.6882 - accuracy: 0.4716 - val_loss: 1.2748 - val_accuracy: 0.5940\n",
            "Epoch 4/100\n",
            "386/386 [==============================] - 222s 575ms/step - loss: 1.4900 - accuracy: 0.5309 - val_loss: 1.1622 - val_accuracy: 0.6313\n",
            "Epoch 5/100\n",
            "386/386 [==============================] - 221s 572ms/step - loss: 1.3531 - accuracy: 0.5721 - val_loss: 1.0784 - val_accuracy: 0.6534\n",
            "Epoch 6/100\n",
            "386/386 [==============================] - 223s 577ms/step - loss: 1.2522 - accuracy: 0.5966 - val_loss: 1.0240 - val_accuracy: 0.6753\n",
            "Epoch 7/100\n",
            "386/386 [==============================] - 225s 583ms/step - loss: 1.1605 - accuracy: 0.6280 - val_loss: 0.9706 - val_accuracy: 0.6886\n",
            "Epoch 8/100\n",
            "386/386 [==============================] - 224s 579ms/step - loss: 1.1022 - accuracy: 0.6396 - val_loss: 0.9303 - val_accuracy: 0.7023\n",
            "Epoch 9/100\n",
            "386/386 [==============================] - 222s 576ms/step - loss: 1.0383 - accuracy: 0.6600 - val_loss: 0.9020 - val_accuracy: 0.7153\n",
            "Epoch 10/100\n",
            "386/386 [==============================] - 222s 575ms/step - loss: 0.9692 - accuracy: 0.6797 - val_loss: 0.8669 - val_accuracy: 0.7278\n",
            "Epoch 11/100\n",
            "386/386 [==============================] - 225s 584ms/step - loss: 0.9332 - accuracy: 0.6943 - val_loss: 0.8429 - val_accuracy: 0.7332\n",
            "Epoch 12/100\n",
            "386/386 [==============================] - 224s 579ms/step - loss: 0.8994 - accuracy: 0.7065 - val_loss: 0.8247 - val_accuracy: 0.7344\n",
            "Epoch 13/100\n",
            "386/386 [==============================] - 221s 574ms/step - loss: 0.8539 - accuracy: 0.7134 - val_loss: 0.8038 - val_accuracy: 0.7409\n",
            "Epoch 14/100\n",
            "386/386 [==============================] - 220s 570ms/step - loss: 0.8172 - accuracy: 0.7262 - val_loss: 0.7858 - val_accuracy: 0.7463\n",
            "Epoch 15/100\n",
            "386/386 [==============================] - 219s 568ms/step - loss: 0.7913 - accuracy: 0.7380 - val_loss: 0.7668 - val_accuracy: 0.7531\n",
            "Epoch 16/100\n",
            "386/386 [==============================] - 220s 571ms/step - loss: 0.7603 - accuracy: 0.7499 - val_loss: 0.7572 - val_accuracy: 0.7563\n",
            "Epoch 17/100\n",
            "386/386 [==============================] - 221s 573ms/step - loss: 0.7285 - accuracy: 0.7583 - val_loss: 0.7440 - val_accuracy: 0.7594\n",
            "Epoch 18/100\n",
            "386/386 [==============================] - 219s 568ms/step - loss: 0.7094 - accuracy: 0.7624 - val_loss: 0.7361 - val_accuracy: 0.7614\n",
            "Epoch 19/100\n",
            "386/386 [==============================] - 221s 571ms/step - loss: 0.6886 - accuracy: 0.7676 - val_loss: 0.7252 - val_accuracy: 0.7605\n",
            "Epoch 20/100\n",
            "386/386 [==============================] - 219s 567ms/step - loss: 0.6726 - accuracy: 0.7749 - val_loss: 0.7111 - val_accuracy: 0.7673\n",
            "Epoch 21/100\n",
            "386/386 [==============================] - 219s 568ms/step - loss: 0.6525 - accuracy: 0.7813 - val_loss: 0.7090 - val_accuracy: 0.7702\n",
            "Epoch 22/100\n",
            "386/386 [==============================] - 224s 580ms/step - loss: 0.6316 - accuracy: 0.7884 - val_loss: 0.7009 - val_accuracy: 0.7648\n",
            "Epoch 23/100\n",
            "386/386 [==============================] - 220s 569ms/step - loss: 0.6054 - accuracy: 0.7941 - val_loss: 0.6908 - val_accuracy: 0.7682\n",
            "Epoch 24/100\n",
            "386/386 [==============================] - 218s 566ms/step - loss: 0.5971 - accuracy: 0.8003 - val_loss: 0.6780 - val_accuracy: 0.7744\n",
            "Epoch 25/100\n",
            "386/386 [==============================] - 217s 562ms/step - loss: 0.5759 - accuracy: 0.8031 - val_loss: 0.6723 - val_accuracy: 0.7736\n",
            "Epoch 26/100\n",
            "386/386 [==============================] - 218s 566ms/step - loss: 0.5520 - accuracy: 0.8147 - val_loss: 0.6694 - val_accuracy: 0.7787\n",
            "Epoch 27/100\n",
            "386/386 [==============================] - 220s 569ms/step - loss: 0.5503 - accuracy: 0.8107 - val_loss: 0.6743 - val_accuracy: 0.7784\n",
            "Epoch 28/100\n",
            "386/386 [==============================] - 223s 579ms/step - loss: 0.5336 - accuracy: 0.8162 - val_loss: 0.6609 - val_accuracy: 0.7818\n",
            "Epoch 29/100\n",
            "386/386 [==============================] - 223s 578ms/step - loss: 0.5208 - accuracy: 0.8207 - val_loss: 0.6583 - val_accuracy: 0.7804\n",
            "Epoch 30/100\n",
            "386/386 [==============================] - 226s 584ms/step - loss: 0.4990 - accuracy: 0.8313 - val_loss: 0.6499 - val_accuracy: 0.7844\n",
            "Epoch 31/100\n",
            "386/386 [==============================] - 226s 584ms/step - loss: 0.4941 - accuracy: 0.8283 - val_loss: 0.6507 - val_accuracy: 0.7844\n",
            "Epoch 32/100\n",
            "386/386 [==============================] - 226s 587ms/step - loss: 0.4896 - accuracy: 0.8339 - val_loss: 0.6510 - val_accuracy: 0.7852\n",
            "Epoch 33/100\n",
            "386/386 [==============================] - 228s 591ms/step - loss: 0.4655 - accuracy: 0.8413 - val_loss: 0.6466 - val_accuracy: 0.7866\n",
            "Epoch 34/100\n",
            "386/386 [==============================] - 228s 591ms/step - loss: 0.4618 - accuracy: 0.8426 - val_loss: 0.6450 - val_accuracy: 0.7844\n",
            "Epoch 35/100\n",
            "386/386 [==============================] - 223s 577ms/step - loss: 0.4436 - accuracy: 0.8498 - val_loss: 0.6424 - val_accuracy: 0.7881\n",
            "Epoch 36/100\n",
            "386/386 [==============================] - 222s 574ms/step - loss: 0.4389 - accuracy: 0.8498 - val_loss: 0.6415 - val_accuracy: 0.7906\n",
            "Epoch 37/100\n",
            "386/386 [==============================] - 222s 576ms/step - loss: 0.4249 - accuracy: 0.8550 - val_loss: 0.6367 - val_accuracy: 0.7875\n",
            "Epoch 38/100\n",
            "386/386 [==============================] - 222s 577ms/step - loss: 0.4195 - accuracy: 0.8589 - val_loss: 0.6350 - val_accuracy: 0.7915\n",
            "Epoch 39/100\n",
            "386/386 [==============================] - 222s 574ms/step - loss: 0.4111 - accuracy: 0.8605 - val_loss: 0.6347 - val_accuracy: 0.7886\n",
            "Epoch 40/100\n",
            "386/386 [==============================] - 222s 575ms/step - loss: 0.4038 - accuracy: 0.8642 - val_loss: 0.6356 - val_accuracy: 0.7898\n",
            "Epoch 41/100\n",
            "386/386 [==============================] - 224s 581ms/step - loss: 0.3926 - accuracy: 0.8661 - val_loss: 0.6280 - val_accuracy: 0.7929\n",
            "Epoch 42/100\n",
            "386/386 [==============================] - 223s 578ms/step - loss: 0.3813 - accuracy: 0.8676 - val_loss: 0.6289 - val_accuracy: 0.7923\n",
            "Epoch 43/100\n",
            "386/386 [==============================] - 225s 583ms/step - loss: 0.3784 - accuracy: 0.8721 - val_loss: 0.6312 - val_accuracy: 0.7940\n",
            "Epoch 44/100\n",
            "386/386 [==============================] - 226s 585ms/step - loss: 0.3656 - accuracy: 0.8782 - val_loss: 0.6265 - val_accuracy: 0.7935\n",
            "Epoch 45/100\n",
            "386/386 [==============================] - 225s 583ms/step - loss: 0.3615 - accuracy: 0.8768 - val_loss: 0.6300 - val_accuracy: 0.7946\n",
            "Epoch 46/100\n",
            "386/386 [==============================] - 224s 581ms/step - loss: 0.3489 - accuracy: 0.8801 - val_loss: 0.6355 - val_accuracy: 0.7929\n",
            "Epoch 47/100\n",
            "386/386 [==============================] - 225s 583ms/step - loss: 0.3490 - accuracy: 0.8802 - val_loss: 0.6286 - val_accuracy: 0.7969\n",
            "Epoch 48/100\n",
            "386/386 [==============================] - 223s 579ms/step - loss: 0.3433 - accuracy: 0.8827 - val_loss: 0.6239 - val_accuracy: 0.7963\n",
            "Epoch 49/100\n",
            "386/386 [==============================] - 222s 575ms/step - loss: 0.3375 - accuracy: 0.8861 - val_loss: 0.6273 - val_accuracy: 0.8017\n",
            "Epoch 50/100\n",
            "386/386 [==============================] - 222s 574ms/step - loss: 0.3348 - accuracy: 0.8827 - val_loss: 0.6262 - val_accuracy: 0.7977\n",
            "Epoch 51/100\n",
            "386/386 [==============================] - 221s 574ms/step - loss: 0.3286 - accuracy: 0.8869 - val_loss: 0.6250 - val_accuracy: 0.8014\n",
            "Epoch 52/100\n",
            "386/386 [==============================] - 225s 582ms/step - loss: 0.3261 - accuracy: 0.8888 - val_loss: 0.6322 - val_accuracy: 0.7994\n",
            "Epoch 53/100\n",
            "386/386 [==============================] - 223s 578ms/step - loss: 0.3155 - accuracy: 0.8918 - val_loss: 0.6206 - val_accuracy: 0.7974\n",
            "Epoch 54/100\n",
            "386/386 [==============================] - 221s 573ms/step - loss: 0.3090 - accuracy: 0.8945 - val_loss: 0.6283 - val_accuracy: 0.8017\n",
            "Epoch 55/100\n",
            "386/386 [==============================] - 222s 574ms/step - loss: 0.3051 - accuracy: 0.8928 - val_loss: 0.6271 - val_accuracy: 0.7994\n",
            "Epoch 56/100\n",
            "386/386 [==============================] - 224s 579ms/step - loss: 0.3017 - accuracy: 0.8966 - val_loss: 0.6304 - val_accuracy: 0.7994\n",
            "Epoch 57/100\n",
            "386/386 [==============================] - 224s 579ms/step - loss: 0.2870 - accuracy: 0.9015 - val_loss: 0.6356 - val_accuracy: 0.8011\n",
            "Epoch 58/100\n",
            "386/386 [==============================] - 221s 574ms/step - loss: 0.2882 - accuracy: 0.9025 - val_loss: 0.6302 - val_accuracy: 0.7972\n"
          ]
        }
      ]
    },
    {
      "cell_type": "code",
      "source": [
        "# 모델 평가 함수 정의\n",
        "def model_eval(y_test, y_pred):\n",
        "    confusion = confusion_matrix(y_test, y_pred)\n",
        "    accuracy = accuracy_score(y_test, y_pred)\n",
        "    precision = precision_score(y_test, y_pred, average='weighted')\n",
        "    recall = recall_score(y_test, y_pred, average='weighted')\n",
        "    f1 = f1_score(y_test, y_pred, average='weighted')\n",
        "\n",
        "    print(\"오차행렬:\\n\", confusion)\n",
        "    print(\"\\n정확도: {:.4f}\".format(accuracy))\n",
        "    print(\"정밀도: {:.4f}\".format(precision))\n",
        "    print(\"재현율: {:.4f}\".format(recall))\n",
        "    print(\"F1: {:.4f}\".format(f1))\n",
        "    print(classification_report(y_test, y_pred))"
      ],
      "metadata": {
        "id": "OSEqi8IICjVd"
      },
      "execution_count": null,
      "outputs": []
    },
    {
      "cell_type": "code",
      "source": [
        "# 테스트 데이터에 대해 예측\n",
        "pred_probs = model.predict(test_generator)\n",
        "pred_classes = np.argmax(pred_probs, axis=1)"
      ],
      "metadata": {
        "colab": {
          "base_uri": "https://localhost:8080/"
        },
        "id": "S7WRROKM0csG",
        "outputId": "857ba54b-5cf7-49b0-a563-ee4dcbb063f6"
      },
      "execution_count": null,
      "outputs": [
        {
          "output_type": "stream",
          "name": "stdout",
          "text": [
            "55/55 [==============================] - 30s 550ms/step\n"
          ]
        }
      ]
    },
    {
      "cell_type": "code",
      "source": [
        "# 실제 라벨 가져오기\n",
        "y_test_classes = test_generator.classes"
      ],
      "metadata": {
        "id": "fjuwvYkb0erR"
      },
      "execution_count": null,
      "outputs": []
    },
    {
      "cell_type": "code",
      "source": [
        "# 모델 평가 함수 호출\n",
        "model_eval(y_test_classes, pred_classes)"
      ],
      "metadata": {
        "colab": {
          "base_uri": "https://localhost:8080/"
        },
        "id": "iYoVnWVR0itA",
        "outputId": "299c4670-b865-4f08-822d-db693e0805b5"
      },
      "execution_count": null,
      "outputs": [
        {
          "output_type": "stream",
          "name": "stdout",
          "text": [
            "오차행렬:\n",
            " [[ 71   4   0   1   6   1   0   2  11   1   1   0   0   1]\n",
            " [  0  83   0   4   0   0   0   3   0   6   0   1   2   0]\n",
            " [  2   0  60   1   1   0   0   2   5   0  28   0   0   0]\n",
            " [  0   4   0  80   0   1   0   4   0   1   0   8   0   1]\n",
            " [  7   1   1   1  59  10   2   2   0   0   0   0   9   7]\n",
            " [  3   3   0   2   1  82   4   2   0   0   0   0   1   1]\n",
            " [  0   1   0   1   0   1 140  14   0   0   0   1   3   0]\n",
            " [  3   0   0   3   0   1  10 190   2   3   3   3   0   9]\n",
            " [  2   0   0   0   1   0   0   3  77   0  11   0   5   0]\n",
            " [  3   1   1   2   0   0   0   4   4  80   0   1   0   3]\n",
            " [  0   0  28   0   1   0   0   3   2   2 150   1   5   1]\n",
            " [  0   0   2   5   0   0   0   2   0   2   0 143   0   3]\n",
            " [  0   1   0   0   4   4   3   3   1   0   7   0  74   2]\n",
            " [  0   0   0   0   0   1   2  10   0   1   2   3   0 101]]\n",
            "\n",
            "정확도: 0.7947\n",
            "정밀도: 0.7947\n",
            "재현율: 0.7947\n",
            "F1: 0.7934\n",
            "              precision    recall  f1-score   support\n",
            "\n",
            "           0       0.78      0.72      0.75        99\n",
            "           1       0.85      0.84      0.84        99\n",
            "           2       0.65      0.61      0.63        99\n",
            "           3       0.80      0.81      0.80        99\n",
            "           4       0.81      0.60      0.69        99\n",
            "           5       0.81      0.83      0.82        99\n",
            "           6       0.87      0.87      0.87       161\n",
            "           7       0.78      0.84      0.81       227\n",
            "           8       0.75      0.78      0.77        99\n",
            "           9       0.83      0.81      0.82        99\n",
            "          10       0.74      0.78      0.76       193\n",
            "          11       0.89      0.91      0.90       157\n",
            "          12       0.75      0.75      0.75        99\n",
            "          13       0.78      0.84      0.81       120\n",
            "\n",
            "    accuracy                           0.79      1749\n",
            "   macro avg       0.79      0.78      0.79      1749\n",
            "weighted avg       0.79      0.79      0.79      1749\n",
            "\n"
          ]
        }
      ]
    },
    {
      "cell_type": "markdown",
      "source": [
        "학습곡선 그리기"
      ],
      "metadata": {
        "id": "SdFlFJ_-0mZA"
      }
    },
    {
      "cell_type": "code",
      "source": [
        "# 학습 곡선 그리기\n",
        "def plot_learning_curve(history):\n",
        "    plt.figure(figsize=(12, 4))\n",
        "    plt.subplot(1, 2, 1)\n",
        "    plt.plot(history.history['loss'], label='Train Loss')\n",
        "    plt.plot(history.history['val_loss'], label='Validation Loss')\n",
        "    plt.xlabel('Epochs')\n",
        "    plt.ylabel('Loss')\n",
        "    plt.title('Training and Validation Loss')\n",
        "    plt.legend()\n",
        "\n",
        "    plt.subplot(1, 2, 2)\n",
        "    plt.plot(history.history['accuracy'], label='Train Accuracy')\n",
        "    plt.plot(history.history['val_accuracy'], label='Validation Accuracy')\n",
        "    plt.xlabel('Epochs')\n",
        "    plt.ylabel('Accuracy')\n",
        "    plt.title('Training and Validation Accuracy')\n",
        "    plt.legend()\n",
        "\n",
        "    plt.show()"
      ],
      "metadata": {
        "id": "J0ZsjwrG0nOj"
      },
      "execution_count": null,
      "outputs": []
    },
    {
      "cell_type": "code",
      "source": [
        "# 학습 곡선 출력\n",
        "plot_learning_curve(history)"
      ],
      "metadata": {
        "colab": {
          "base_uri": "https://localhost:8080/",
          "height": 410
        },
        "id": "OwH5A7kP0qyo",
        "outputId": "a0432b9a-7efa-47bc-8830-2c442eec2a0c"
      },
      "execution_count": null,
      "outputs": [
        {
          "output_type": "display_data",
          "data": {
            "text/plain": [
              "<Figure size 1200x400 with 2 Axes>"
            ],
            "image/png": "[encoded data removed]"
          },
          "metadata": {}
        }
      ]
    },
    {
      "cell_type": "markdown",
      "source": [
        "하이퍼파라미터 튜닝"
      ],
      "metadata": {
        "id": "_LkRDlYk0uL6"
      }
    },
    {
      "cell_type": "code",
      "source": [
        "def model_builder(hp):\n",
        "    base_model = VGG19(weights='imagenet', include_top=False, input_shape=(224, 224, 3))\n",
        "\n",
        "    model = Sequential()\n",
        "    model.add(base_model)\n",
        "    model.add(GlobalAveragePooling2D())\n",
        "    model.add(Dense(hp.Int('units', min_value=128, max_value=512, step=128), activation='relu'))\n",
        "    model.add(Dropout(hp.Float('dropout', min_value=0.0, max_value=0.5, step=0.1)))\n",
        "    model.add(Dense(num_classes, activation='softmax'))\n",
        "\n",
        "    for layer in base_model.layers:\n",
        "        layer.trainable = False\n",
        "\n",
        "    model.compile(optimizer=Adam(hp.Float('learning_rate', min_value=1e-5, max_value=1e-3, sampling='LOG')),\n",
        "                  loss='categorical_crossentropy',\n",
        "                  metrics=['accuracy'])\n",
        "\n",
        "    return model"
      ],
      "metadata": {
        "id": "mXPDx8zv0sMP"
      },
      "execution_count": null,
      "outputs": []
    },
    {
      "cell_type": "code",
      "source": [
        "tuner = kt.RandomSearch(\n",
        "    model_builder,\n",
        "    objective='val_accuracy',\n",
        "    max_trials=10,\n",
        "    executions_per_trial=1,\n",
        "    directory='vgg19_tuning',\n",
        "    project_name='vgg19_tuning_project'\n",
        ")"
      ],
      "metadata": {
        "id": "sGO87c2J0wfe"
      },
      "execution_count": null,
      "outputs": []
    },
    {
      "cell_type": "code",
      "source": [
        "# 튜너 검색 수행\n",
        "tuner.search(train_generator, validation_data=validation_generator, epochs=10, callbacks=[early_stopping])"
      ],
      "metadata": {
        "id": "PtM5z6Pr0x6V"
      },
      "execution_count": null,
      "outputs": []
    },
    {
      "cell_type": "code",
      "source": [
        "# 최적의 하이퍼파라미터 출력\n",
        "best_hps = tuner.get_best_hyperparameters(num_trials=1)[0]\n",
        "print(f\"\"\"\n",
        "최적의 하이퍼파라미터:\n",
        "- Dense 레이어 유닛 수: {best_hps.get('units')}\n",
        "- Dropout 비율: {best_hps.get('dropout')}\n",
        "- 학습률: {best_hps.get('learning_rate')}\n",
        "\"\"\")"
      ],
      "metadata": {
        "colab": {
          "base_uri": "https://localhost:8080/"
        },
        "id": "XNLbAnXT0zYQ",
        "outputId": "8fc8d0fe-dcc9-4717-ad57-91afe07f02dd"
      },
      "execution_count": null,
      "outputs": [
        {
          "output_type": "stream",
          "name": "stdout",
          "text": [
            "\n",
            "최적의 하이퍼파라미터:\n",
            "- Dense 레이어 유닛 수: 512\n",
            "- Dropout 비율: 0.1\n",
            "- 학습률: 0.00026421929875193183\n",
            "\n"
          ]
        }
      ]
    },
    {
      "cell_type": "code",
      "source": [
        "# 최적의 하이퍼파라미터로 모델 빌드\n",
        "model = tuner.hypermodel.build(best_hps)"
      ],
      "metadata": {
        "id": "6TvE0_H-011r"
      },
      "execution_count": null,
      "outputs": []
    },
    {
      "cell_type": "code",
      "source": [
        "# 모델 학습\n",
        "history = model.fit(\n",
        "    train_generator,\n",
        "    validation_data=validation_generator,\n",
        "    epochs=100,\n",
        "    steps_per_epoch=train_generator.samples // train_generator.batch_size,\n",
        "    validation_steps=validation_generator.samples // validation_generator.batch_size,\n",
        "    callbacks=[early_stopping]\n",
        ")"
      ],
      "metadata": {
        "colab": {
          "base_uri": "https://localhost:8080/"
        },
        "id": "cQF7U_pp082Q",
        "outputId": "718c5f27-b160-419c-bf62-bc937470eb1f"
      },
      "execution_count": null,
      "outputs": [
        {
          "output_type": "stream",
          "name": "stdout",
          "text": [
            "Epoch 1/100\n",
            "386/386 [==============================] - 230s 592ms/step - loss: 1.6184 - accuracy: 0.5489 - val_loss: 0.9633 - val_accuracy: 0.6832\n",
            "Epoch 2/100\n",
            "386/386 [==============================] - 224s 581ms/step - loss: 0.8794 - accuracy: 0.7149 - val_loss: 0.8305 - val_accuracy: 0.7241\n",
            "Epoch 3/100\n",
            "386/386 [==============================] - 228s 590ms/step - loss: 0.6667 - accuracy: 0.7818 - val_loss: 0.7413 - val_accuracy: 0.7659\n",
            "Epoch 4/100\n",
            "386/386 [==============================] - 224s 579ms/step - loss: 0.5493 - accuracy: 0.8177 - val_loss: 0.6966 - val_accuracy: 0.7747\n",
            "Epoch 5/100\n",
            "386/386 [==============================] - 221s 573ms/step - loss: 0.4547 - accuracy: 0.8503 - val_loss: 0.6804 - val_accuracy: 0.7770\n",
            "Epoch 6/100\n",
            "386/386 [==============================] - 222s 576ms/step - loss: 0.3935 - accuracy: 0.8687 - val_loss: 0.6681 - val_accuracy: 0.7855\n",
            "Epoch 7/100\n",
            "386/386 [==============================] - 219s 568ms/step - loss: 0.3393 - accuracy: 0.8871 - val_loss: 0.6582 - val_accuracy: 0.7898\n",
            "Epoch 8/100\n",
            "386/386 [==============================] - 224s 579ms/step - loss: 0.3015 - accuracy: 0.8993 - val_loss: 0.6693 - val_accuracy: 0.7832\n",
            "Epoch 9/100\n",
            "386/386 [==============================] - 220s 569ms/step - loss: 0.2601 - accuracy: 0.9175 - val_loss: 0.6639 - val_accuracy: 0.7943\n",
            "Epoch 10/100\n",
            "386/386 [==============================] - 219s 567ms/step - loss: 0.2323 - accuracy: 0.9269 - val_loss: 0.6695 - val_accuracy: 0.7937\n",
            "Epoch 11/100\n",
            "386/386 [==============================] - 219s 568ms/step - loss: 0.2005 - accuracy: 0.9368 - val_loss: 0.6974 - val_accuracy: 0.7875\n",
            "Epoch 12/100\n",
            "386/386 [==============================] - 227s 587ms/step - loss: 0.1820 - accuracy: 0.9407 - val_loss: 0.6643 - val_accuracy: 0.7955\n"
          ]
        }
      ]
    },
    {
      "cell_type": "code",
      "source": [
        "# 테스트 데이터에 대해 예측\n",
        "pred_probs = model.predict(test_generator)\n",
        "pred_classes = np.argmax(pred_probs, axis=1)"
      ],
      "metadata": {
        "colab": {
          "base_uri": "https://localhost:8080/"
        },
        "id": "ZHYbsBOQ0_rp",
        "outputId": "d335be2c-68c4-4663-d38c-96b559f41396"
      },
      "execution_count": null,
      "outputs": [
        {
          "output_type": "stream",
          "name": "stdout",
          "text": [
            "55/55 [==============================] - 26s 463ms/step\n"
          ]
        }
      ]
    },
    {
      "cell_type": "code",
      "source": [
        "# 실제 라벨 가져오기\n",
        "y_test_classes = test_generator.classes"
      ],
      "metadata": {
        "id": "_cpWasRK1Egs"
      },
      "execution_count": null,
      "outputs": []
    },
    {
      "cell_type": "code",
      "source": [
        "# 모델 평가 함수 호출\n",
        "model_eval(y_test_classes, pred_classes)"
      ],
      "metadata": {
        "colab": {
          "base_uri": "https://localhost:8080/"
        },
        "id": "IlnQ-JPJ1LgF",
        "outputId": "dcd38ce6-cb56-4e54-d23c-11b7273e4f64"
      },
      "execution_count": null,
      "outputs": [
        {
          "output_type": "stream",
          "name": "stdout",
          "text": [
            "오차행렬:\n",
            " [[ 60   3   2   2  12   2   0   3   9   3   2   0   0   1]\n",
            " [  2  69   1   5   0   1   0   3   2  14   0   0   0   2]\n",
            " [  1   0  52   0   1   0   0   1   5   0  38   0   0   1]\n",
            " [  2   1   0  78   1   1   0   3   0   3   0  10   0   0]\n",
            " [  4   1   0   1  62  12   2   5   2   0   0   0   6   4]\n",
            " [  2   1   0   2   3  78   4   4   0   0   0   1   1   3]\n",
            " [  0   0   0   1   0   0 143  11   1   0   0   0   4   1]\n",
            " [  1   0   2   5   0   4  13 179   1   6   4   2   0  10]\n",
            " [  1   0   2   0   1   0   0   1  80   0  13   0   1   0]\n",
            " [  1   1   1   2   0   1   0   3   4  81   0   1   0   4]\n",
            " [  0   0  20   0   0   0   0   1   3   1 163   1   3   1]\n",
            " [  0   0   0   4   0   0   0   5   0   1   2 144   0   1]\n",
            " [  0   0   0   0   3   1   3   1   3   1   8   0  77   2]\n",
            " [  0   0   0   0   0   1   4   7   0   3   2   2   1 100]]\n",
            "\n",
            "정확도: 0.7810\n",
            "정밀도: 0.7837\n",
            "재현율: 0.7810\n",
            "F1: 0.7788\n",
            "              precision    recall  f1-score   support\n",
            "\n",
            "           0       0.81      0.61      0.69        99\n",
            "           1       0.91      0.70      0.79        99\n",
            "           2       0.65      0.53      0.58        99\n",
            "           3       0.78      0.79      0.78        99\n",
            "           4       0.75      0.63      0.68        99\n",
            "           5       0.77      0.79      0.78        99\n",
            "           6       0.85      0.89      0.87       161\n",
            "           7       0.79      0.79      0.79       227\n",
            "           8       0.73      0.81      0.77        99\n",
            "           9       0.72      0.82      0.76        99\n",
            "          10       0.70      0.84      0.77       193\n",
            "          11       0.89      0.92      0.91       157\n",
            "          12       0.83      0.78      0.80        99\n",
            "          13       0.77      0.83      0.80       120\n",
            "\n",
            "    accuracy                           0.78      1749\n",
            "   macro avg       0.78      0.76      0.77      1749\n",
            "weighted avg       0.78      0.78      0.78      1749\n",
            "\n"
          ]
        }
      ]
    },
    {
      "cell_type": "markdown",
      "source": [
        "- 하이퍼파라미터 튜닝 전 : 0.7947(정확도), 0.7947(정밀도), 0.7947(재현율), 0.7934(f1-score)\n",
        "- 하이퍼파라미터 튜닝 후 : 0.7810(정확도), 0.7837(정밀도), 0.7810(재현율), 0.7788(f1-score)\n",
        "- 하이퍼파라미터 튜닝 전이 낫다"
      ],
      "metadata": {
        "id": "Fq6fAKCWtk9m"
      }
    },
    {
      "cell_type": "markdown",
      "source": [
        "학습곡선 그리기"
      ],
      "metadata": {
        "id": "QBDssiXZuCUr"
      }
    },
    {
      "cell_type": "code",
      "source": [
        "# 학습 곡선 출력\n",
        "plot_learning_curve(history)"
      ],
      "metadata": {
        "colab": {
          "base_uri": "https://localhost:8080/",
          "height": 410
        },
        "id": "d6jjop4GuA3W",
        "outputId": "e7d99881-3211-4d32-b547-941543904da3"
      },
      "execution_count": null,
      "outputs": [
        {
          "output_type": "display_data",
          "data": {
            "text/plain": [
              "<Figure size 1200x400 with 2 Axes>"
            ],
            "image/png": "[encoded data removed]"
          },
          "metadata": {}
        }
      ]
    },
    {
      "cell_type": "code",
      "source": [],
      "metadata": {
        "id": "doLzdC3MuFp3"
      },
      "execution_count": null,
      "outputs": []
    }
  ],
  "metadata": {
    "accelerator": "GPU",
    "colab": {
      "gpuType": "T4",
      "machine_shape": "hm",
      "provenance": []
    },
    "kernelspec": {
      "display_name": "Python 3",
      "name": "python3"
    },
    "language_info": {
      "name": "python"
    }
  },
  "nbformat": 4,
  "nbformat_minor": 0
}
